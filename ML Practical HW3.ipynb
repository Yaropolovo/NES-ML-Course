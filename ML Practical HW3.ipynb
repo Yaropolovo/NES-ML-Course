{
  "nbformat": 4,
  "nbformat_minor": 0,
  "metadata": {
    "kernelspec": {
      "name": "python3",
      "display_name": "Python 3"
    },
    "colab": {
      "name": "homework_practice_3.ipynb",
      "provenance": [],
      "collapsed_sections": [],
      "toc_visible": true
    }
  },
  "cells": [
    {
      "cell_type": "markdown",
      "metadata": {
        "id": "csMaH5hpuVTz"
      },
      "source": [
        "# Машинное обучение, РЭШ\n",
        "\n",
        "## [Практическое задание 3. Градиентный спуск своими руками](https://www.youtube.com/watch?v=dQw4w9WgXcQ)\n",
        "\n",
        "### Общая информация\n",
        "Дата выдачи: 14.11.2020\n",
        "\n",
        "Мягкий дедлайн: 23:59MSK 21.11.2020 (за каждый день просрочки снимается 1 балл)\n",
        "\n",
        "Жесткий дедлайн: 23:59MSK 23.11.2020"
      ]
    },
    {
      "cell_type": "markdown",
      "metadata": {
        "id": "MRJFT5yPuVUC"
      },
      "source": [
        "### О задании\n",
        "\n",
        "В данном задании необходимо реализовать обучение линейной регрессии с помощью различных вариантов градиентного спуска.\n",
        "\n",
        "\n",
        "### Оценивание и штрафы\n",
        "Каждая из задач имеет определенную «стоимость» (указана в скобках около задачи). Максимально допустимая оценка за работу — 10 баллов.\n",
        "\n",
        "Сдавать задание после указанного срока сдачи нельзя. При выставлении неполного балла за задание в связи с наличием ошибок на усмотрение проверяющего предусмотрена возможность исправить работу на указанных в ответном письме условиях.\n",
        "\n",
        "Задание выполняется самостоятельно. «Похожие» решения считаются плагиатом и все задействованные студенты (в том числе те, у кого списали) не могут получить за него больше 0 баллов (подробнее о плагиате см. на странице курса). Если вы нашли решение какого-то из заданий (или его часть) в открытом источнике, необходимо указать ссылку на этот источник в отдельном блоке в конце вашей работы (скорее всего вы будете не единственным, кто это нашел, поэтому чтобы исключить подозрение в плагиате, необходима ссылка на источник).\n",
        "\n",
        "Неэффективная реализация кода может негативно отразиться на оценке.\n",
        "\n",
        "Все ответы должны сопровождаться кодом или комментариями о том, как они были получены.\n",
        "\n",
        "\n",
        "### Формат сдачи\n",
        "Задания загружаются на my.nes. Присылать необходимо ноутбук с выполненным заданием. \n",
        "\n",
        "Для удобства проверки самостоятельно посчитайте свою максимальную оценку (исходя из набора решенных задач) и укажите ниже.\n",
        "\n",
        "**Оценка**: 10!"
      ]
    },
    {
      "cell_type": "markdown",
      "metadata": {
        "id": "V-HrP6yvuVUE"
      },
      "source": [
        "## Реализация градиентного спуска\n",
        "\n",
        "Реализуйте линейную регрессию с функцией потерь MSE, обучаемую с помощью:\n",
        "\n",
        "**Задание 1 (2 балл)** Градиентного спуска;\n",
        "\n",
        "**Задание 2 (3 балла)** Стохастического градиентного спуска;\n",
        "\n",
        "Во всех пунктах необходимо соблюдать следующие условия:\n",
        "\n",
        "* Все вычисления должны быть векторизованы;\n",
        "* Циклы средствами python допускается использовать только для итераций градиентного спуска;\n",
        "* В качестве критерия останова необходимо использовать (одновременно):\n",
        "\n",
        "    * проверку на евклидовую норму разности весов на двух соседних итерациях (например, меньше некоторого малого числа порядка $10^{-6}$, задаваемого параметром `tolerance`);\n",
        "    * достижение максимального числа итераций (например, 10000, задаваемого параметром `max_iter`).\n",
        "* Чтобы проследить, что оптимизационный процесс действительно сходится, будем использовать атрибут класса `loss_history` — в нём после вызова метода `fit` должны содержаться значения функции потерь для всех итераций, начиная с первой (до совершения первого шага по антиградиенту);\n",
        "* Инициализировать веса можно случайным образом или нулевым вектором. \n",
        "\n",
        "\n",
        "Ниже приведён шаблон класса, который должен содержать код реализации каждого из методов."
      ]
    },
    {
      "cell_type": "code",
      "metadata": {
        "id": "rsRKuxmtw-TO"
      },
      "source": [
        "import pandas as pd\n",
        "import numpy as np\n",
        "import matplotlib.pyplot as plt\n",
        "\n",
        "from sklearn.base import BaseEstimator\n",
        "from sklearn.model_selection import train_test_split\n",
        "from sklearn.preprocessing import StandardScaler\n",
        "from sklearn.preprocessing import OneHotEncoder\n",
        "from sklearn.compose import ColumnTransformer\n",
        "from sklearn.pipeline import Pipeline\n",
        "from sklearn.linear_model import LinearRegression\n",
        "from sklearn.metrics import mean_squared_error\n",
        "from sklearn.metrics import r2_score"
      ],
      "execution_count": 80,
      "outputs": []
    },
    {
      "cell_type": "code",
      "metadata": {
        "id": "Vzu1xnsCuVUG"
      },
      "source": [
        "class LinearReg(BaseEstimator):\n",
        "    def __init__(self, gd_type='full', \n",
        "                 tolerance=1e-6, max_iter=1000, w0=None, eta=1e-2, seed = 111):\n",
        "        \"\"\"\n",
        "        gd_type: 'full' or 'stochastic'\n",
        "        tolerance: for stopping gradient descent\n",
        "        max_iter: maximum number of steps in gradient descent\n",
        "        w0: np.array of shape (d) - init weights\n",
        "        eta: learning rate\n",
        "        alpha: momentum coefficient\n",
        "        \"\"\"\n",
        "        self.gd_type = gd_type\n",
        "        self.tolerance = tolerance\n",
        "        self.max_iter = max_iter\n",
        "        self.w0 = w0\n",
        "        self.w = None\n",
        "        self.eta = eta\n",
        "        self.loss_history = None # list of loss function values at each training iteration\n",
        "        self.seed = seed \n",
        "\n",
        "    def fit(self, X, y):\n",
        "        \"\"\"\n",
        "        X: np.array of shape (ell, d)\n",
        "        y: np.array of shape (ell)\n",
        "        ---\n",
        "        output: self\n",
        "        \"\"\"\n",
        "        np.random.seed(self.seed)\n",
        "\n",
        "        if (self.w0 == None):\n",
        "          self.w0 = np.zeros(X.shape[1])\n",
        "\n",
        "        self.w = self.w0\n",
        "        self.loss_history = [self.calc_loss(X, y)]\n",
        "\n",
        "        iter = 0\n",
        "        need_to_continue = True\n",
        "\n",
        "        while need_to_continue:\n",
        "          \n",
        "          if self.gd_type == 'full':\n",
        "            step = self.calc_gradient(X,y)\n",
        "            self.w -= self.eta*step\n",
        "            need_to_continue = np.logical_and(iter <= self.max_iter,\n",
        "                                            np.sqrt(np.mean(((self.eta*step)**2))) >= self.tolerance)\n",
        "          elif self.gd_type == 'stochastic':\n",
        "            i = np.random.randint(0,X.shape[0])\n",
        "            step = self.eta * self.calc_gradient(X[i], y[i])\n",
        "            # В качестве learning rate будем использовать (1/k)**alpha, где k - номер итерации (удовл. условию Роббинса-Монро)\n",
        "            self.w -= step/((iter+1)**0.51)\n",
        "            need_to_continue = np.logical_and(iter <= self.max_iter,\n",
        "                                            np.sqrt(np.mean(((step/(iter+1))**2))) >= self.tolerance)\n",
        "          else:\n",
        "            raise Exception('The method {0} is not implemented yet'.format(self.gd_type))\n",
        "\n",
        "          self.loss_history = np.append(self.loss_history, self.calc_loss(X, y))\n",
        "          iter+=1\n",
        "        return self\n",
        "    \n",
        "    def predict(self, X):\n",
        "        if self.w is None:\n",
        "            raise Exception('Not trained yet')\n",
        "        return X @ self.w\n",
        "    \n",
        "    def calc_gradient(self, X, y):\n",
        "        \"\"\"\n",
        "        X: np.array of shape (ell, d) (ell can be equal to 1 if stochastic)\n",
        "        y: np.array of shape (ell)\n",
        "        ---\n",
        "        output: np.array of shape (d)\n",
        "        \"\"\"\n",
        "        return 2/X.shape[0] * np.dot(X.T, X@self.w - y)\n",
        "\n",
        "    def calc_loss(self, X, y):\n",
        "        \"\"\"\n",
        "        X: np.array of shape (ell, d)\n",
        "        y: np.array of shape (ell)\n",
        "        ---\n",
        "        output: float \n",
        "        \"\"\" \n",
        "        return mean_squared_error(y, X @ self.w)\n"
      ],
      "execution_count": 111,
      "outputs": []
    },
    {
      "cell_type": "markdown",
      "metadata": {
        "id": "YAGrUd74uVUX"
      },
      "source": [
        "**Задание 3 (0 баллов)**. \n",
        "* Загрузите данные из домашнего задания 2 ([train.csv](https://www.kaggle.com/c/nyc-taxi-trip-duration/data));\n",
        "* Разбейте выборку на обучающую и тестовую в отношении 7:3 с random_seed=0;\n",
        "* Преобразуйте целевую переменную `trip_duration` как $\\hat{y} = \\log{(y + 1)}$."
      ]
    },
    {
      "cell_type": "code",
      "metadata": {
        "id": "9iCwCmGnuVUY",
        "colab": {
          "base_uri": "https://localhost:8080/"
        },
        "outputId": "d64c2181-4c18-4061-8824-fda7ce299d9a"
      },
      "source": [
        "#!pip install kaggle\n",
        "!mkdir ~/.kaggle\n",
        "!cp /content/kaggle.json ~/.kaggle/kaggle.json\n",
        "!kaggle competitions download -c nyc-taxi-trip-duration"
      ],
      "execution_count": 82,
      "outputs": [
        {
          "output_type": "stream",
          "text": [
            "mkdir: cannot create directory ‘/root/.kaggle’: File exists\n",
            "Warning: Your Kaggle API key is readable by other users on this system! To fix this, you can run 'chmod 600 /root/.kaggle/kaggle.json'\n",
            "Warning: Looks like you're using an outdated API Version, please consider updating (server 1.5.9 / client 1.5.4)\n",
            "sample_submission.zip: Skipping, found more recently modified local copy (use --force to force download)\n",
            "train.zip: Skipping, found more recently modified local copy (use --force to force download)\n",
            "test.zip: Skipping, found more recently modified local copy (use --force to force download)\n"
          ],
          "name": "stdout"
        }
      ]
    },
    {
      "cell_type": "code",
      "metadata": {
        "id": "ghEu5Er2whC_"
      },
      "source": [
        "train = pd.read_csv('train.zip', parse_dates=['pickup_datetime'])\n",
        "train['log_trip_duration'] = np.log1p(train['trip_duration']) \n",
        "train['p_date'] = train['pickup_datetime'].dt.date\n",
        "train['p_date'] = train['p_date'].apply(lambda x: x.timetuple().tm_yday)\n",
        "dtrain, dtest = train_test_split(train, test_size = 0.3, random_state = 0)"
      ],
      "execution_count": 83,
      "outputs": []
    },
    {
      "cell_type": "markdown",
      "metadata": {
        "id": "jaX55pBGuVUd"
      },
      "source": [
        "**Задание 4 (3 балла)**. Обучите и провалидируйте модели на данных из предыдущего пункта, сравните качество между методами по метрикам MSE и $R^2$. Исследуйте влияние параметров `max_iter` и `eta` на процесс оптимизации. Согласуется ли оно с вашими ожиданиями?\n"
      ]
    },
    {
      "cell_type": "markdown",
      "metadata": {
        "id": "wlD1yPFV1Aim"
      },
      "source": [
        "Далее мы будем обучать линейную модель (с константой), состоящую всего из одной вещественной переменной: p_date. Ведь наша задача посмотреть на сходимость, а не построить лучшую модель.\n",
        "\n",
        "Нам надо отмасштабировать переменные обучающей выборки. При этом, необходимо запомнить параметры масштаба и применять их же для последующего масштабирования теста! "
      ]
    },
    {
      "cell_type": "code",
      "metadata": {
        "id": "dE4ZTC5h3GMd"
      },
      "source": [
        "X = dtrain['p_date']\n",
        "y = np.array(dtrain['log_trip_duration'])\n",
        "\n",
        "# Масштабируем\n",
        "means = np.mean(X, axis=0)\n",
        "sds = np.std(X, axis = 0)\n",
        "X = (X-means)/sds\n",
        "\n",
        "# И добавляем константу\n",
        "X = np.c_[np.ones(X.shape[0]),X]"
      ],
      "execution_count": 84,
      "outputs": []
    },
    {
      "cell_type": "code",
      "metadata": {
        "id": "dzUvsFfLEDCO"
      },
      "source": [
        "X_test = (dtest['p_date']-means)/sds\n",
        "X_test = np.c_[np.ones(X_test.shape[0]),X_test]"
      ],
      "execution_count": 7,
      "outputs": []
    },
    {
      "cell_type": "markdown",
      "metadata": {
        "id": "3oWjgtlo6Vjx"
      },
      "source": [
        "Время обучения!"
      ]
    },
    {
      "cell_type": "markdown",
      "metadata": {
        "id": "UMXxAKADK6w-"
      },
      "source": [
        "Решим задачу встроенными методами (точка отсчета):"
      ]
    },
    {
      "cell_type": "code",
      "metadata": {
        "colab": {
          "base_uri": "https://localhost:8080/"
        },
        "id": "Z-V3sYJDK5a1",
        "outputId": "d7ae2ad9-8f62-4ab3-8c93-2d8a104b49bb"
      },
      "source": [
        "regr = LinearRegression().fit(X, y)\n",
        "\n",
        "print(regr.intercept_)\n",
        "print(regr.coef_)"
      ],
      "execution_count": 117,
      "outputs": [
        {
          "output_type": "stream",
          "text": [
            "6.466887640016402\n",
            "[0.         0.03783491]\n"
          ],
          "name": "stdout"
        }
      ]
    },
    {
      "cell_type": "markdown",
      "metadata": {
        "id": "bv5ozPnBLA3l"
      },
      "source": [
        "Теперь наши:"
      ]
    },
    {
      "cell_type": "code",
      "metadata": {
        "colab": {
          "base_uri": "https://localhost:8080/"
        },
        "id": "j_Nq-T4d4uIs",
        "outputId": "f0a1f2f1-67dc-417a-f8ea-45e1d46b91d5"
      },
      "source": [
        "# Full\n",
        "full_gd = LinearReg(gd_type='full')\n",
        "full_gd.fit(X,y)\n",
        "print(full_gd.w)\n",
        "\n",
        "y_test_pred = full_gd.predict(X_test)\n",
        "print(\"Test MSE full = %.4f\" % mean_squared_error(dtest['log_trip_duration'], y_test_pred))\n",
        "print(\"Test R2 full = %.4f\" % r2_score(dtest['log_trip_duration'], y_test_pred))"
      ],
      "execution_count": 119,
      "outputs": [
        {
          "output_type": "stream",
          "text": [
            "[6.46681911 0.03783451]\n",
            "Test MSE full = 0.6282\n",
            "Test R2 full = 0.0024\n"
          ],
          "name": "stdout"
        }
      ]
    },
    {
      "cell_type": "code",
      "metadata": {
        "colab": {
          "base_uri": "https://localhost:8080/"
        },
        "id": "nT0ZmXepEbTm",
        "outputId": "8ee57029-2e4b-49f2-95c7-4f98331c763b"
      },
      "source": [
        "# Stochastic\n",
        "stoch_gd = LinearReg(gd_type='stochastic', eta = 1)\n",
        "stoch_gd.fit(X,y)\n",
        "print(stoch_gd.w)\n",
        "\n",
        "y_test_pred = stoch_gd.predict(X_test)\n",
        "print(\"Test MSE stochastic = %.4f\" % mean_squared_error(dtest['log_trip_duration'], y_test_pred))\n",
        "print(\"Test R2 stochastic = %.4f\" % r2_score(dtest['log_trip_duration'], y_test_pred))"
      ],
      "execution_count": 121,
      "outputs": [
        {
          "output_type": "stream",
          "text": [
            "[6.52921584 0.09017749]\n",
            "Test MSE stochastic = 0.6347\n",
            "Test R2 stochastic = -0.0079\n"
          ],
          "name": "stdout"
        }
      ]
    },
    {
      "cell_type": "markdown",
      "metadata": {
        "id": "gWGWwxX8BjYI"
      },
      "source": [
        "Видим, что оба метода сошлись к похожим значениям на базовых параметрах. При этом R2 говорит, что модель так себе (ну мы и не ожидали многого от одной переменной). Еще видно, что полный градиент сошелся лучше (ближе к истинному значению). Не удивительно, ведь данных не очень много и полный градиент быстро сходится, пока случайный скачет около решения. Теперь давайте варьировать параметры:"
      ]
    },
    {
      "cell_type": "code",
      "metadata": {
        "colab": {
          "base_uri": "https://localhost:8080/"
        },
        "id": "9o6lKVBOByxn",
        "outputId": "8576d6ce-fd81-4600-f485-7c68c540443c"
      },
      "source": [
        "for max_iters in range(500, 3500, 500):\n",
        "  print('Number of iterations: %.f' % max_iters)\n",
        "  full_gd = LinearReg(gd_type='full', max_iter = max_iters)\n",
        "  full_gd.fit(X,y)\n",
        "  y_test_pred = full_gd.predict(X_test)\n",
        "  print(\"Test MSE full = %.4f\" % mean_squared_error(dtest['log_trip_duration'], y_test_pred))\n",
        "  print(\"Test R2 full = %.4f\" % r2_score(dtest['log_trip_duration'], y_test_pred))\n",
        "\n",
        "  stoch_gd = LinearReg(gd_type='stochastic', max_iter = max_iters)\n",
        "  stoch_gd.fit(X,y)\n",
        "  y_test_pred = stoch_gd.predict(X_test)\n",
        "  print(\"Test MSE stochastic = %.4f\" % mean_squared_error(dtest['log_trip_duration'], y_test_pred))\n",
        "  print(\"Test R2 stochastic = %.4f\" % r2_score(dtest['log_trip_duration'], y_test_pred))\n",
        "\n",
        "  print('\\n')"
      ],
      "execution_count": 95,
      "outputs": [
        {
          "output_type": "stream",
          "text": [
            "Number of iterations: 500\n",
            "Test MSE full = 0.6282\n",
            "Test R2 full = 0.0024\n",
            "Test MSE stochastic = 0.9187\n",
            "Test R2 stochastic = -0.4590\n",
            "\n",
            "\n",
            "Number of iterations: 1000\n",
            "Test MSE full = 0.6282\n",
            "Test R2 full = 0.0024\n",
            "Test MSE stochastic = 0.6347\n",
            "Test R2 stochastic = -0.0079\n",
            "\n",
            "\n",
            "Number of iterations: 1500\n",
            "Test MSE full = 0.6282\n",
            "Test R2 full = 0.0024\n",
            "Test MSE stochastic = 0.6568\n",
            "Test R2 stochastic = -0.0431\n",
            "\n",
            "\n",
            "Number of iterations: 2000\n",
            "Test MSE full = 0.6282\n",
            "Test R2 full = 0.0024\n",
            "Test MSE stochastic = 0.6568\n",
            "Test R2 stochastic = -0.0431\n",
            "\n",
            "\n",
            "Number of iterations: 2500\n",
            "Test MSE full = 0.6282\n",
            "Test R2 full = 0.0024\n",
            "Test MSE stochastic = 0.6568\n",
            "Test R2 stochastic = -0.0431\n",
            "\n",
            "\n",
            "Number of iterations: 3000\n",
            "Test MSE full = 0.6282\n",
            "Test R2 full = 0.0024\n",
            "Test MSE stochastic = 0.6568\n",
            "Test R2 stochastic = -0.0431\n",
            "\n",
            "\n"
          ],
          "name": "stdout"
        }
      ]
    },
    {
      "cell_type": "markdown",
      "metadata": {
        "id": "t_h62HnaFTCp"
      },
      "source": [
        "Учитывая, что мы используем seed в SGD, для обоих методов есть определенное максимальное число итераций до остановки при текущих параметрах. До достижения этого количества мы обучаемся лучше (без учета случайной природы SGD). Дальнейшие увеличение параметра не имеет смысла (остановка по другому критерию). Выше видно, что после 1500 итераций изменений нет для SGD, а для полного - уже для 500+. Все ожидаемо. "
      ]
    },
    {
      "cell_type": "code",
      "metadata": {
        "colab": {
          "base_uri": "https://localhost:8080/"
        },
        "id": "A-wMYmFgH1F4",
        "outputId": "fa9bef29-0b9d-48f6-9cae-2799a0314cc5"
      },
      "source": [
        "for etas in np.logspace(1, -5, num =7):\n",
        "  print('Eta: %.5f' % etas)"
      ],
      "execution_count": 114,
      "outputs": [
        {
          "output_type": "stream",
          "text": [
            "Eta: 10.00000\n",
            "Eta: 1.00000\n",
            "Eta: 0.10000\n",
            "Eta: 0.01000\n",
            "Eta: 0.00100\n",
            "Eta: 0.00010\n",
            "Eta: 0.00001\n"
          ],
          "name": "stdout"
        }
      ]
    },
    {
      "cell_type": "code",
      "metadata": {
        "colab": {
          "base_uri": "https://localhost:8080/"
        },
        "id": "VEC5FDNkF9yc",
        "outputId": "41baba71-b067-471f-ce91-f499fc3d5da6"
      },
      "source": [
        "for etas in np.logspace(0, -5, num =6):\n",
        "  print('Eta: %.5f' % etas)\n",
        "  full_gd = LinearReg(gd_type='full', eta = etas)\n",
        "  full_gd.fit(X,y)\n",
        "  y_test_pred = full_gd.predict(X_test)\n",
        "  print(\"Test MSE full = %.4f\" % mean_squared_error(dtest['log_trip_duration'], y_test_pred))\n",
        "  print(\"Test R2 full = %.4f\" % r2_score(dtest['log_trip_duration'], y_test_pred))\n",
        "\n",
        "  stoch_gd = LinearReg(gd_type='stochastic', eta = etas)\n",
        "  stoch_gd.fit(X,y)\n",
        "  y_test_pred = stoch_gd.predict(X_test)\n",
        "  print(\"Test MSE stochastic = %.4f\" % mean_squared_error(dtest['log_trip_duration'], y_test_pred))\n",
        "  print(\"Test R2 stochastic = %.4f\" % r2_score(dtest['log_trip_duration'], y_test_pred))\n",
        "\n",
        "  print('\\n')"
      ],
      "execution_count": 116,
      "outputs": [
        {
          "output_type": "stream",
          "text": [
            "Eta: 1.00000\n",
            "Test MSE full = 42.4542\n",
            "Test R2 full = -66.4253\n",
            "Test MSE stochastic = 0.6347\n",
            "Test R2 stochastic = -0.0079\n",
            "\n",
            "\n",
            "Eta: 0.10000\n",
            "Test MSE full = 0.6282\n",
            "Test R2 full = 0.0024\n",
            "Test MSE stochastic = 0.6826\n",
            "Test R2 stochastic = -0.0841\n",
            "\n",
            "\n",
            "Eta: 0.01000\n",
            "Test MSE full = 0.6282\n",
            "Test R2 full = 0.0024\n",
            "Test MSE stochastic = 13.6539\n",
            "Test R2 stochastic = -20.6850\n",
            "\n",
            "\n",
            "Eta: 0.00100\n",
            "Test MSE full = 1.3856\n",
            "Test R2 full = -1.2006\n",
            "Test MSE stochastic = 37.8378\n",
            "Test R2 stochastic = -59.0936\n",
            "\n",
            "\n",
            "Eta: 0.00010\n",
            "Test MSE full = 28.6421\n",
            "Test R2 full = -44.4891\n",
            "Test MSE stochastic = 42.1521\n",
            "Test R2 stochastic = -65.9454\n",
            "\n",
            "\n",
            "Eta: 0.00001\n",
            "Test MSE full = 40.8110\n",
            "Test R2 full = -63.8156\n",
            "Test MSE stochastic = 42.4441\n",
            "Test R2 stochastic = -66.4092\n",
            "\n",
            "\n"
          ],
          "name": "stdout"
        }
      ]
    },
    {
      "cell_type": "markdown",
      "metadata": {
        "id": "WAOhhRivJxXs"
      },
      "source": [
        "Тут тоже все согласуется с интуицией: если сделать eta очень маленькой, то все шаги сильно сожмутся. Это не позволит нам сойтись к решению. Так на примере выше: чем меньше eta, тем раньше (с худшей моделью) мы останавливаемся, так как быстрее достигаем критерия остановы. В то же время слишком большая eta не позволяет сойтись вообще, так как шаги большые и нас швыряет. "
      ]
    },
    {
      "cell_type": "markdown",
      "metadata": {
        "id": "vNJSqm8duVUj"
      },
      "source": [
        "**Задание 5 (2 балла)**. Постройте графики (на одной и той же картинке) зависимости величины функции потерь от номера итерации для полного и  стохастического градиентного спусков. Сделайте выводы о скорости сходимости различных модификаций градиентного спуска.\n",
        "\n",
        "Не забывайте о том, что должны получиться *красивые* графики!"
      ]
    },
    {
      "cell_type": "code",
      "metadata": {
        "colab": {
          "base_uri": "https://localhost:8080/",
          "height": 513
        },
        "id": "E7j6QWmtNEtd",
        "outputId": "00922fb8-7e23-4298-a7be-c277da74ca0d"
      },
      "source": [
        "fig, ax = plt.subplots(figsize = (12,8))\n",
        "\n",
        "ax.plot(full_gd.loss_history, label = 'Полный GD')\n",
        "ax.plot(stoch_gd.loss_history, label = 'Стохастический GD')\n",
        "ax.set_title('Сходимость MSE по шагам GD')\n",
        "ax.set_xlabel('Номер шага')\n",
        "ax.set_ylabel('MSE')\n",
        "ax.legend()\n",
        "\n",
        "ax.grid(True)"
      ],
      "execution_count": 132,
      "outputs": [
        {
          "output_type": "display_data",
          "data": {
            "image/png": "[encoded data removed]",
            "text/plain": [
              "<Figure size 864x576 with 1 Axes>"
            ]
          },
          "metadata": {
            "tags": [],
            "needs_background": "light"
          }
        }
      ]
    },
    {
      "cell_type": "markdown",
      "metadata": {
        "id": "zRDZD8k4Ohfg"
      },
      "source": [
        "Видно, что полный градиент сходится плавно, но надежно - критерий остановы достигается еще до 600 итерации. В то же время, стохастический градиент почти мгновенно скачет близко к оптимальным значениям, а потом скачет вокруг него (не сходясь окончательно). \n"
      ]
    },
    {
      "cell_type": "markdown",
      "metadata": {
        "id": "a1NRgPkeuVUr"
      },
      "source": [
        "** Задание 6 (бонус) (0.01 балла)**.  Вставьте картинку с вашим любимым мемом в этот Jupyter Notebook"
      ]
    },
    {
      "cell_type": "markdown",
      "metadata": {
        "id": "ooLLNAAbw6u9"
      },
      "source": [
        "![picture](https://drive.google.com/uc?export=view&id=18K6yEtApR3L8hctQ8vWgau4oF2uYX1gN) \n"
      ]
    }
  ]
}