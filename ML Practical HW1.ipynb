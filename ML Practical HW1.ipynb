{
  "nbformat": 4,
  "nbformat_minor": 0,
  "metadata": {
    "kernel_info": {
      "name": "py36"
    },
    "kernelspec": {
      "display_name": "Python 3",
      "language": "python",
      "name": "python3"
    },
    "language_info": {
      "codemirror_mode": {
        "name": "ipython",
        "version": 3
      },
      "file_extension": ".py",
      "mimetype": "text/x-python",
      "name": "python",
      "nbconvert_exporter": "python",
      "pygments_lexer": "ipython3",
      "version": "3.7.1"
    },
    "nteract": {
      "version": "0.11.6"
    },
    "colab": {
      "name": "homework_practice_1.ipynb",
      "provenance": [],
      "collapsed_sections": [
        "UdpdSvGN8Y92",
        "zHc6bdtP8Y-G"
      ],
      "toc_visible": true
    }
  },
  "cells": [
    {
      "cell_type": "markdown",
      "metadata": {
        "id": "1LJzhoQ-8Y91"
      },
      "source": [
        "# Машинное обучение, МАЕ РЭШ\n",
        "\n",
        "## Практическое задание 1\n",
        "\n",
        "### Общая информация\n",
        "Дата выдачи: 31.10.2020  \n",
        "\n",
        "Мягкий дедлайн: 23:59MSK 07.11.2020 (за каждый день просрочки снимается 1 балл)\n",
        "\n",
        "Жесткий дедлайн: 23:59MSK 09.11.2020  "
      ]
    },
    {
      "cell_type": "markdown",
      "metadata": {
        "id": "UdpdSvGN8Y92"
      },
      "source": [
        "### О задании\n",
        "\n",
        "Задание состоит из двух разделов, посвященных работе с табличными данными с помощью библиотеки pandas и визуализации с помощью matplotlib. В каждом разделе вам предлагается выполнить несколько заданий. Баллы даются за выполнение отдельных пунктов. Задачи в рамках одного раздела рекомендуется решать в том порядке, в котором они даны в задании.\n",
        "\n",
        "Задание направлено на освоение jupyter notebook (будет использоваться в дальнейших заданиях), библиотекам pandas и matplotlib.\n",
        "\n",
        "### Оценивание и штрафы\n",
        "Каждая из задач имеет определенную «стоимость» (указана в скобках около задачи). Максимально допустимая оценка за работу — 10 баллов.\n",
        "\n",
        "Сдавать задание после указанного срока сдачи нельзя. При выставлении неполного балла за задание в связи с наличием ошибок на усмотрение проверяющего предусмотрена возможность исправить работу на указанных в ответном письме условиях.\n",
        "\n",
        "Задание выполняется самостоятельно. «Похожие» решения считаются плагиатом и все задействованные студенты (в том числе те, у кого списали) не могут получить за него больше 0 баллов (подробнее о плагиате см. на странице курса). Если вы нашли решение какого-то из заданий (или его часть) в открытом источнике, необходимо указать ссылку на этот источник в отдельном блоке в конце вашей работы (скорее всего вы будете не единственным, кто это нашел, поэтому чтобы исключить подозрение в плагиате, необходима ссылка на источник).\n",
        "\n",
        "### Формат сдачи\n",
        "Задания сдаются через систему mу.nes. Присылать необходимо ноутбук с выполненным заданием. \n",
        "\n",
        "Для удобства проверки самостоятельно посчитайте свою максимальную оценку (исходя из набора решенных задач) и укажите ниже.\n",
        "\n",
        "Оценка: xx."
      ]
    },
    {
      "cell_type": "markdown",
      "metadata": {
        "id": "RS0A9gSN8Y93"
      },
      "source": [
        "## 0. Введение"
      ]
    },
    {
      "cell_type": "markdown",
      "metadata": {
        "collapsed": true,
        "id": "yUlOMDzs8Y94"
      },
      "source": [
        "Сейчас мы находимся в jupyter-ноутбуке (или ipython-ноутбуке). Это удобная среда для написания кода, проведения экспериментов, изучения данных, построения визуализаций и других нужд, не связанных с написаем production-кода. \n",
        "\n",
        "Ноутбук состоит из ячеек, каждая из которых может быть либо ячейкой с кодом, либо ячейкой с текстом размеченным и неразмеченным. Текст поддерживает markdown-разметку и формулы в Latex.\n",
        "\n",
        "Для работы с содержимым ячейки используется *режим редактирования* (*Edit mode*, включается нажатием клавиши **Enter** после выбора ячейки), а для навигации между ячейками искользуется *командный режим* (*Command mode*, включается нажатием клавиши **Esc**). Тип ячейки можно задать в командном режиме либо с помощью горячих клавиш (**y** to code, **m** to markdown, **r** to edit raw text), либо в меню *Cell -> Cell type*. \n",
        "\n",
        "После заполнения ячейки нужно нажать *Shift + Enter*, эта команда обработает содержимое ячейки: проинтерпретирует код или сверстает размеченный текст."
      ]
    },
    {
      "cell_type": "code",
      "metadata": {
        "id": "bxiY-IpE8Y95",
        "outputId": "b5d17eb6-7433-425d-a655-d46c79bfb7a6",
        "colab": {
          "base_uri": "https://localhost:8080/"
        }
      },
      "source": [
        "# ячейка с кодом, при выполнении которой появится output\n",
        "2 + 2"
      ],
      "execution_count": 6,
      "outputs": [
        {
          "output_type": "execute_result",
          "data": {
            "text/plain": [
              "4"
            ]
          },
          "metadata": {
            "tags": []
          },
          "execution_count": 6
        }
      ]
    },
    {
      "cell_type": "markdown",
      "metadata": {
        "id": "zkxNUfQ28Y9_"
      },
      "source": [
        "А это ___ячейка с текстом___."
      ]
    },
    {
      "cell_type": "markdown",
      "metadata": {
        "id": "knlqmoP38Y-A"
      },
      "source": [
        "Ячейка с неразмеченыным текстом.\n"
      ]
    },
    {
      "cell_type": "markdown",
      "metadata": {
        "id": "g2gBuL3l8Y-B"
      },
      "source": [
        "Попробуйте создать свои ячейки, написать какой-нибудь код и текст какой-нибудь формулой."
      ]
    },
    {
      "cell_type": "code",
      "metadata": {
        "id": "jUliCzQL8Y-C",
        "outputId": "b04624ae-0fb6-4183-c0ed-6ca45a83e6ee",
        "colab": {
          "base_uri": "https://localhost:8080/"
        }
      },
      "source": [
        "print(\"Hello world!\")"
      ],
      "execution_count": 7,
      "outputs": [
        {
          "output_type": "stream",
          "text": [
            "Hello world!\n"
          ],
          "name": "stdout"
        }
      ]
    },
    {
      "cell_type": "markdown",
      "metadata": {
        "id": "0qDks0dNpKB3"
      },
      "source": [
        "**Работает!**\n"
      ]
    },
    {
      "cell_type": "markdown",
      "metadata": {
        "id": "zHc6bdtP8Y-G"
      },
      "source": [
        "[Здесь](https://athena.brynmawr.edu/jupyter/hub/dblank/public/Jupyter%20Notebook%20Users%20Manual.ipynb) находится <s>не</s>большая заметка о используемом языке разметки Markdown. Он позволяет:\n",
        "\n",
        "0. Составлять упорядоченные списки\n",
        "1. #Делать \n",
        "##заголовки \n",
        "###разного уровня\n",
        "3. Выделять *текст* <s>при</s> **необходимости**\n",
        "4. Добавлять [ссылки](http://imgs.xkcd.com/comics/the_universal_label.png)\n",
        "\n",
        "\n",
        "* Составлять неупорядоченные списки\n",
        "\n",
        "Делать вставки с помощью LaTex:\n",
        "    \n",
        "$\n",
        "\\left\\{\n",
        "\\begin{array}{ll}\n",
        "x = 16 \\sin^3 (t) \\\\ \n",
        "y = 13 \\cos (t) - 5 \\cos (2t) - 2 \\cos (3t) - \\cos (4t) \\\\\n",
        "t \\in [0, 2 \\pi]\n",
        "\\end{array}\n",
        "\\right.$"
      ]
    },
    {
      "cell_type": "markdown",
      "metadata": {
        "id": "iYnPwui88Y-H"
      },
      "source": [
        "А ещё можно вставлять картинки:\n",
        "<img src=\"https://st2.depositphotos.com/1177973/9266/i/950/depositphotos_92668716-stock-photo-red-cat-with-computer-keyboard.jpg\" style=\"width: 400px\">"
      ]
    },
    {
      "cell_type": "markdown",
      "metadata": {
        "id": "lRV1gLAL8Y-I"
      },
      "source": [
        "## 1. Табличные данные и Pandas"
      ]
    },
    {
      "cell_type": "markdown",
      "metadata": {
        "id": "iwcQeuRZ8Y-J"
      },
      "source": [
        "Pandas — удобная библиотека для работы с табличными данными в Python, если данных не слишком много и они помещаются в оперативную память вашего компьютера. Несмотря на неэффективность реализации и некоторые проблемы, библиотека стала стандартом в анализе данных. С этой библиотекой мы сейчас и познакомимся.\n",
        "\n",
        "Основной объект в pandas это DataFrame, представляющий собой таблицу с именованными колонками различных типов, индексом (может быть многоуровневым). DataFrame можно создавать, считывая таблицу из файла или задавая вручную из других объектов.\n",
        "\n",
        "В этой части потребуется выполнить несколько небольших заданий. Можно пойти двумя путями: сначала изучить материалы, а потом приступить к заданиям, или же разбираться \"по ходу\". Выбирайте сами.\n",
        "\n",
        "Материалы:\n",
        "1. [Pandas за 10 минут из официального руководства](http://pandas.pydata.org/pandas-docs/stable/10min.html)\n",
        "2. [Документация](http://pandas.pydata.org/pandas-docs/stable/index.html) (стоит обращаться, если не понятно, как вызывать конкретный метод)\n",
        "3. [Примеры использования функционала](http://nbviewer.jupyter.org/github/justmarkham/pandas-videos/blob/master/pandas.ipynb)\n",
        "\n",
        "Многие из заданий можно выполнить несколькими способами. Не существуют единственно верного, но попробуйте максимально задействовать арсенал pandas и ориентируйтесь на простоту и понятность вашего кода. Мы не будем подсказывать, что нужно использовать для решения конкретной задачи, попробуйте находить необходимый функционал сами (название метода чаще всего очевидно). В помощь вам документация, поиск и stackoverflow."
      ]
    },
    {
      "cell_type": "code",
      "metadata": {
        "id": "0QgBS9_X8Y-J",
        "outputId": "f753ea59-938b-49eb-b094-752527fce7e9",
        "colab": {
          "base_uri": "https://localhost:8080/"
        }
      },
      "source": [
        "%pylab inline  \n",
        "# import almost all we need\n",
        "import pandas as pd"
      ],
      "execution_count": 8,
      "outputs": [
        {
          "output_type": "stream",
          "text": [
            "Populating the interactive namespace from numpy and matplotlib\n"
          ],
          "name": "stdout"
        }
      ]
    },
    {
      "cell_type": "markdown",
      "metadata": {
        "id": "PrYfk1mv8Y-O"
      },
      "source": [
        "Данные можно скачать [отсюда](https://www.dropbox.com/s/5qq94wzmbw4e54r/data.csv?dl=0)."
      ]
    },
    {
      "cell_type": "markdown",
      "metadata": {
        "id": "N9DtcQu18Y-O"
      },
      "source": [
        "#### 1. [0.5 баллов] Откройте файл с таблицей (не забудьте про её формат). Выведите последние 10 строк.\n",
        "\n",
        "Посмотрите на данные и скажите, что они из себя представляют, сколько в таблице строк, какие столбцы?"
      ]
    },
    {
      "cell_type": "code",
      "metadata": {
        "id": "WC5rG7Tn8Y-P"
      },
      "source": [
        "! wget  -O 'data.csv' -q 'https://www.dropbox.com/s/5qq94wzmbw4e54r/data.csv?dl=0'\n",
        "df = pd.read_csv(\"data.csv\")"
      ],
      "execution_count": 9,
      "outputs": []
    },
    {
      "cell_type": "markdown",
      "metadata": {
        "id": "e2SQ4AW-ui1K"
      },
      "source": [
        "Последние 10 строк:\n"
      ]
    },
    {
      "cell_type": "code",
      "metadata": {
        "id": "aHf0gKb7unNZ",
        "outputId": "bec03cdb-892f-44d9-aeba-8809d99f8bf6",
        "colab": {
          "base_uri": "https://localhost:8080/",
          "height": 343
        }
      },
      "source": [
        "df.tail(10)"
      ],
      "execution_count": 10,
      "outputs": [
        {
          "output_type": "execute_result",
          "data": {
            "text/html": [
              "<div>\n",
              "<style scoped>\n",
              "    .dataframe tbody tr th:only-of-type {\n",
              "        vertical-align: middle;\n",
              "    }\n",
              "\n",
              "    .dataframe tbody tr th {\n",
              "        vertical-align: top;\n",
              "    }\n",
              "\n",
              "    .dataframe thead th {\n",
              "        text-align: right;\n",
              "    }\n",
              "</style>\n",
              "<table border=\"1\" class=\"dataframe\">\n",
              "  <thead>\n",
              "    <tr style=\"text-align: right;\">\n",
              "      <th></th>\n",
              "      <th>order_id</th>\n",
              "      <th>quantity</th>\n",
              "      <th>item_name</th>\n",
              "      <th>choice_description</th>\n",
              "      <th>item_price</th>\n",
              "    </tr>\n",
              "  </thead>\n",
              "  <tbody>\n",
              "    <tr>\n",
              "      <th>4612</th>\n",
              "      <td>1831</td>\n",
              "      <td>1</td>\n",
              "      <td>Carnitas Bowl</td>\n",
              "      <td>[Fresh Tomato Salsa, [Fajita Vegetables, Rice,...</td>\n",
              "      <td>$9.25</td>\n",
              "    </tr>\n",
              "    <tr>\n",
              "      <th>4613</th>\n",
              "      <td>1831</td>\n",
              "      <td>1</td>\n",
              "      <td>Chips</td>\n",
              "      <td>NaN</td>\n",
              "      <td>$2.15</td>\n",
              "    </tr>\n",
              "    <tr>\n",
              "      <th>4614</th>\n",
              "      <td>1831</td>\n",
              "      <td>1</td>\n",
              "      <td>Bottled Water</td>\n",
              "      <td>NaN</td>\n",
              "      <td>$1.50</td>\n",
              "    </tr>\n",
              "    <tr>\n",
              "      <th>4615</th>\n",
              "      <td>1832</td>\n",
              "      <td>1</td>\n",
              "      <td>Chicken Soft Tacos</td>\n",
              "      <td>[Fresh Tomato Salsa, [Rice, Cheese, Sour Cream]]</td>\n",
              "      <td>$8.75</td>\n",
              "    </tr>\n",
              "    <tr>\n",
              "      <th>4616</th>\n",
              "      <td>1832</td>\n",
              "      <td>1</td>\n",
              "      <td>Chips and Guacamole</td>\n",
              "      <td>NaN</td>\n",
              "      <td>$4.45</td>\n",
              "    </tr>\n",
              "    <tr>\n",
              "      <th>4617</th>\n",
              "      <td>1833</td>\n",
              "      <td>1</td>\n",
              "      <td>Steak Burrito</td>\n",
              "      <td>[Fresh Tomato Salsa, [Rice, Black Beans, Sour ...</td>\n",
              "      <td>$11.75</td>\n",
              "    </tr>\n",
              "    <tr>\n",
              "      <th>4618</th>\n",
              "      <td>1833</td>\n",
              "      <td>1</td>\n",
              "      <td>Steak Burrito</td>\n",
              "      <td>[Fresh Tomato Salsa, [Rice, Sour Cream, Cheese...</td>\n",
              "      <td>$11.75</td>\n",
              "    </tr>\n",
              "    <tr>\n",
              "      <th>4619</th>\n",
              "      <td>1834</td>\n",
              "      <td>1</td>\n",
              "      <td>Chicken Salad Bowl</td>\n",
              "      <td>[Fresh Tomato Salsa, [Fajita Vegetables, Pinto...</td>\n",
              "      <td>$11.25</td>\n",
              "    </tr>\n",
              "    <tr>\n",
              "      <th>4620</th>\n",
              "      <td>1834</td>\n",
              "      <td>1</td>\n",
              "      <td>Chicken Salad Bowl</td>\n",
              "      <td>[Fresh Tomato Salsa, [Fajita Vegetables, Lettu...</td>\n",
              "      <td>$8.75</td>\n",
              "    </tr>\n",
              "    <tr>\n",
              "      <th>4621</th>\n",
              "      <td>1834</td>\n",
              "      <td>1</td>\n",
              "      <td>Chicken Salad Bowl</td>\n",
              "      <td>[Fresh Tomato Salsa, [Fajita Vegetables, Pinto...</td>\n",
              "      <td>$8.75</td>\n",
              "    </tr>\n",
              "  </tbody>\n",
              "</table>\n",
              "</div>"
            ],
            "text/plain": [
              "      order_id  ...  item_price\n",
              "4612      1831  ...      $9.25 \n",
              "4613      1831  ...      $2.15 \n",
              "4614      1831  ...      $1.50 \n",
              "4615      1832  ...      $8.75 \n",
              "4616      1832  ...      $4.45 \n",
              "4617      1833  ...     $11.75 \n",
              "4618      1833  ...     $11.75 \n",
              "4619      1834  ...     $11.25 \n",
              "4620      1834  ...      $8.75 \n",
              "4621      1834  ...      $8.75 \n",
              "\n",
              "[10 rows x 5 columns]"
            ]
          },
          "metadata": {
            "tags": []
          },
          "execution_count": 10
        }
      ]
    },
    {
      "cell_type": "markdown",
      "metadata": {
        "id": "plMxQbmPvgY3"
      },
      "source": [
        "У нас таблица с данными по заказам разных блюд. Первое впечатление о данных (включая количество строк и столбцы) можно составить отсюда:\n"
      ]
    },
    {
      "cell_type": "code",
      "metadata": {
        "id": "fBReGYJ7uuTs",
        "outputId": "c6d949f8-7e9f-4824-a45c-06ecb678e285",
        "colab": {
          "base_uri": "https://localhost:8080/"
        }
      },
      "source": [
        "df.info()"
      ],
      "execution_count": 11,
      "outputs": [
        {
          "output_type": "stream",
          "text": [
            "<class 'pandas.core.frame.DataFrame'>\n",
            "RangeIndex: 4622 entries, 0 to 4621\n",
            "Data columns (total 5 columns):\n",
            " #   Column              Non-Null Count  Dtype \n",
            "---  ------              --------------  ----- \n",
            " 0   order_id            4622 non-null   int64 \n",
            " 1   quantity            4622 non-null   int64 \n",
            " 2   item_name           4622 non-null   object\n",
            " 3   choice_description  3376 non-null   object\n",
            " 4   item_price          4622 non-null   object\n",
            "dtypes: int64(2), object(3)\n",
            "memory usage: 180.7+ KB\n"
          ],
          "name": "stdout"
        }
      ]
    },
    {
      "cell_type": "markdown",
      "metadata": {
        "id": "MjLF9zKZ8Y-T"
      },
      "source": [
        "#### 2. [0.25 баллов] Ответьте на вопросы:\n",
        "1. Сколько заказов попало в выборку?\n",
        "2. Сколько уникальных категорий товара было куплено? (item_name)"
      ]
    },
    {
      "cell_type": "markdown",
      "metadata": {
        "id": "QyQlP7tvxQz2"
      },
      "source": [
        "Хоть ответ и виден из посленей строки, для надежности посчитаем руками количество уникальных заказов:\n"
      ]
    },
    {
      "cell_type": "code",
      "metadata": {
        "id": "7ADHS1qD8Y-U",
        "outputId": "fbdda5f5-3689-444d-88cf-03d483ca6fdf",
        "colab": {
          "base_uri": "https://localhost:8080/"
        }
      },
      "source": [
        "df.order_id.nunique()"
      ],
      "execution_count": 12,
      "outputs": [
        {
          "output_type": "execute_result",
          "data": {
            "text/plain": [
              "1834"
            ]
          },
          "metadata": {
            "tags": []
          },
          "execution_count": 12
        }
      ]
    },
    {
      "cell_type": "markdown",
      "metadata": {
        "id": "quFwrJiWxdcc"
      },
      "source": [
        "Аналогично для категорий:\n"
      ]
    },
    {
      "cell_type": "code",
      "metadata": {
        "id": "jiRrZi3rxjCo",
        "outputId": "4fdf0fd5-d7c0-4e92-be51-14497f57c129",
        "colab": {
          "base_uri": "https://localhost:8080/"
        }
      },
      "source": [
        "df.item_name.nunique()"
      ],
      "execution_count": 13,
      "outputs": [
        {
          "output_type": "execute_result",
          "data": {
            "text/plain": [
              "50"
            ]
          },
          "metadata": {
            "tags": []
          },
          "execution_count": 13
        }
      ]
    },
    {
      "cell_type": "markdown",
      "metadata": {
        "id": "Bkgtzvh08Y-g"
      },
      "source": [
        "#### 3. [0.25 баллов] Есть ли в данных пропуски? В каких колонках? "
      ]
    },
    {
      "cell_type": "markdown",
      "metadata": {
        "id": "uzYN2ET_xung"
      },
      "source": [
        "Смотрим еще раз на инфо. По количеству наблюдений в столбцах видно, что пропуски есть только в описании товара (**choice_description**). "
      ]
    },
    {
      "cell_type": "code",
      "metadata": {
        "id": "QjV5BXjSxptD",
        "outputId": "88257c32-71c8-4692-b7ec-e857dfaefa57",
        "colab": {
          "base_uri": "https://localhost:8080/"
        }
      },
      "source": [
        "df.info()"
      ],
      "execution_count": 14,
      "outputs": [
        {
          "output_type": "stream",
          "text": [
            "<class 'pandas.core.frame.DataFrame'>\n",
            "RangeIndex: 4622 entries, 0 to 4621\n",
            "Data columns (total 5 columns):\n",
            " #   Column              Non-Null Count  Dtype \n",
            "---  ------              --------------  ----- \n",
            " 0   order_id            4622 non-null   int64 \n",
            " 1   quantity            4622 non-null   int64 \n",
            " 2   item_name           4622 non-null   object\n",
            " 3   choice_description  3376 non-null   object\n",
            " 4   item_price          4622 non-null   object\n",
            "dtypes: int64(2), object(3)\n",
            "memory usage: 180.7+ KB\n"
          ],
          "name": "stdout"
        }
      ]
    },
    {
      "cell_type": "markdown",
      "metadata": {
        "id": "WVOaGo3S8Y-p"
      },
      "source": [
        "Заполните пропуски пустой строкой для строковых колонок и нулём для числовых."
      ]
    },
    {
      "cell_type": "code",
      "metadata": {
        "id": "BvNAlcGU8Y-r"
      },
      "source": [
        "df['choice_description'] = df['choice_description'].fillna('')"
      ],
      "execution_count": 15,
      "outputs": []
    },
    {
      "cell_type": "markdown",
      "metadata": {
        "id": "_YbFFf9JyoZo"
      },
      "source": [
        "Проверяем:\n"
      ]
    },
    {
      "cell_type": "code",
      "metadata": {
        "id": "g42RH5B_ybCy",
        "outputId": "67e57800-d019-4020-f143-86ae15c3423c",
        "colab": {
          "base_uri": "https://localhost:8080/"
        }
      },
      "source": [
        "df.info()"
      ],
      "execution_count": 16,
      "outputs": [
        {
          "output_type": "stream",
          "text": [
            "<class 'pandas.core.frame.DataFrame'>\n",
            "RangeIndex: 4622 entries, 0 to 4621\n",
            "Data columns (total 5 columns):\n",
            " #   Column              Non-Null Count  Dtype \n",
            "---  ------              --------------  ----- \n",
            " 0   order_id            4622 non-null   int64 \n",
            " 1   quantity            4622 non-null   int64 \n",
            " 2   item_name           4622 non-null   object\n",
            " 3   choice_description  4622 non-null   object\n",
            " 4   item_price          4622 non-null   object\n",
            "dtypes: int64(2), object(3)\n",
            "memory usage: 180.7+ KB\n"
          ],
          "name": "stdout"
        }
      ]
    },
    {
      "cell_type": "markdown",
      "metadata": {
        "id": "A023gkQZ8Y-z"
      },
      "source": [
        "#### 4. [0.5 баллов] Посмотрите внимательнее на колонку с ценой товара. Какого она типа? Создайте новую колонку так, чтобы в ней цена была числом.\n",
        "\n",
        "Для этого попробуйте применить функцию-преобразование к каждой строке вашей таблицы (для этого есть соответствующая функция)."
      ]
    },
    {
      "cell_type": "markdown",
      "metadata": {
        "id": "YInMfOzLM8n4"
      },
      "source": [
        "Давайте преобразуем строковую цену в число:"
      ]
    },
    {
      "cell_type": "code",
      "metadata": {
        "id": "sjr5BEf18Y-0"
      },
      "source": [
        "df['price'] = df['item_price'].apply(lambda x: double(x[1:]))"
      ],
      "execution_count": 17,
      "outputs": []
    },
    {
      "cell_type": "markdown",
      "metadata": {
        "id": "1WoKNQnW8Y-5"
      },
      "source": [
        "Какая средняя/минимальная/максимальная цена у товара? "
      ]
    },
    {
      "cell_type": "markdown",
      "metadata": {
        "id": "llnoyHJFNYFt"
      },
      "source": [
        "Требуемые статистики для цены:\n"
      ]
    },
    {
      "cell_type": "code",
      "metadata": {
        "id": "hfAIPnzV8Y-6",
        "outputId": "670ba073-10ff-40db-b390-662153e5711e",
        "colab": {
          "base_uri": "https://localhost:8080/",
          "height": 284
        }
      },
      "source": [
        "df[['quantity','price']].describe()"
      ],
      "execution_count": 18,
      "outputs": [
        {
          "output_type": "execute_result",
          "data": {
            "text/html": [
              "<div>\n",
              "<style scoped>\n",
              "    .dataframe tbody tr th:only-of-type {\n",
              "        vertical-align: middle;\n",
              "    }\n",
              "\n",
              "    .dataframe tbody tr th {\n",
              "        vertical-align: top;\n",
              "    }\n",
              "\n",
              "    .dataframe thead th {\n",
              "        text-align: right;\n",
              "    }\n",
              "</style>\n",
              "<table border=\"1\" class=\"dataframe\">\n",
              "  <thead>\n",
              "    <tr style=\"text-align: right;\">\n",
              "      <th></th>\n",
              "      <th>quantity</th>\n",
              "      <th>price</th>\n",
              "    </tr>\n",
              "  </thead>\n",
              "  <tbody>\n",
              "    <tr>\n",
              "      <th>count</th>\n",
              "      <td>4622.000000</td>\n",
              "      <td>4622.000000</td>\n",
              "    </tr>\n",
              "    <tr>\n",
              "      <th>mean</th>\n",
              "      <td>1.075725</td>\n",
              "      <td>7.464336</td>\n",
              "    </tr>\n",
              "    <tr>\n",
              "      <th>std</th>\n",
              "      <td>0.410186</td>\n",
              "      <td>4.245557</td>\n",
              "    </tr>\n",
              "    <tr>\n",
              "      <th>min</th>\n",
              "      <td>1.000000</td>\n",
              "      <td>1.090000</td>\n",
              "    </tr>\n",
              "    <tr>\n",
              "      <th>25%</th>\n",
              "      <td>1.000000</td>\n",
              "      <td>3.390000</td>\n",
              "    </tr>\n",
              "    <tr>\n",
              "      <th>50%</th>\n",
              "      <td>1.000000</td>\n",
              "      <td>8.750000</td>\n",
              "    </tr>\n",
              "    <tr>\n",
              "      <th>75%</th>\n",
              "      <td>1.000000</td>\n",
              "      <td>9.250000</td>\n",
              "    </tr>\n",
              "    <tr>\n",
              "      <th>max</th>\n",
              "      <td>15.000000</td>\n",
              "      <td>44.250000</td>\n",
              "    </tr>\n",
              "  </tbody>\n",
              "</table>\n",
              "</div>"
            ],
            "text/plain": [
              "          quantity        price\n",
              "count  4622.000000  4622.000000\n",
              "mean      1.075725     7.464336\n",
              "std       0.410186     4.245557\n",
              "min       1.000000     1.090000\n",
              "25%       1.000000     3.390000\n",
              "50%       1.000000     8.750000\n",
              "75%       1.000000     9.250000\n",
              "max      15.000000    44.250000"
            ]
          },
          "metadata": {
            "tags": []
          },
          "execution_count": 18
        }
      ]
    },
    {
      "cell_type": "markdown",
      "metadata": {
        "id": "1Jw8Mfb38Y-_"
      },
      "source": [
        "Удалите старую колонку с ценой."
      ]
    },
    {
      "cell_type": "code",
      "metadata": {
        "id": "og8TsW5o8Y_A"
      },
      "source": [
        "df.drop(columns='item_price', inplace=True)"
      ],
      "execution_count": 19,
      "outputs": []
    },
    {
      "cell_type": "markdown",
      "metadata": {
        "id": "pm8zDnIK8Y_E"
      },
      "source": [
        "#### 5. [0.25 баллов] Какие 5 товаров были самыми дешёвыми и самыми дорогими? (по item_name)\n",
        "\n",
        "Для этого будет удобно избавиться от дубликатов и отсортировать товары. Не забудьте про количество товара."
      ]
    },
    {
      "cell_type": "markdown",
      "metadata": {
        "id": "kMJqATr-8Z_A"
      },
      "source": [
        "Заметим, что одинаковые товары с разным описанием могут иметь разную цену (т.е. по сути, это разные товары). Далее, посмотрим на такой запрос:\n"
      ]
    },
    {
      "cell_type": "code",
      "metadata": {
        "id": "MJ0ay12P6cDs",
        "outputId": "1eb70fcd-dcd5-4eed-b816-b1216e8e5189",
        "colab": {
          "base_uri": "https://localhost:8080/",
          "height": 402
        }
      },
      "source": [
        "df[df['choice_description']=='[Sprite]']"
      ],
      "execution_count": 20,
      "outputs": [
        {
          "output_type": "execute_result",
          "data": {
            "text/html": [
              "<div>\n",
              "<style scoped>\n",
              "    .dataframe tbody tr th:only-of-type {\n",
              "        vertical-align: middle;\n",
              "    }\n",
              "\n",
              "    .dataframe tbody tr th {\n",
              "        vertical-align: top;\n",
              "    }\n",
              "\n",
              "    .dataframe thead th {\n",
              "        text-align: right;\n",
              "    }\n",
              "</style>\n",
              "<table border=\"1\" class=\"dataframe\">\n",
              "  <thead>\n",
              "    <tr style=\"text-align: right;\">\n",
              "      <th></th>\n",
              "      <th>order_id</th>\n",
              "      <th>quantity</th>\n",
              "      <th>item_name</th>\n",
              "      <th>choice_description</th>\n",
              "      <th>price</th>\n",
              "    </tr>\n",
              "  </thead>\n",
              "  <tbody>\n",
              "    <tr>\n",
              "      <th>18</th>\n",
              "      <td>9</td>\n",
              "      <td>2</td>\n",
              "      <td>Canned Soda</td>\n",
              "      <td>[Sprite]</td>\n",
              "      <td>2.18</td>\n",
              "    </tr>\n",
              "    <tr>\n",
              "      <th>53</th>\n",
              "      <td>24</td>\n",
              "      <td>1</td>\n",
              "      <td>Canned Soda</td>\n",
              "      <td>[Sprite]</td>\n",
              "      <td>1.09</td>\n",
              "    </tr>\n",
              "    <tr>\n",
              "      <th>292</th>\n",
              "      <td>127</td>\n",
              "      <td>1</td>\n",
              "      <td>Canned Soft Drink</td>\n",
              "      <td>[Sprite]</td>\n",
              "      <td>1.25</td>\n",
              "    </tr>\n",
              "    <tr>\n",
              "      <th>298</th>\n",
              "      <td>129</td>\n",
              "      <td>1</td>\n",
              "      <td>6 Pack Soft Drink</td>\n",
              "      <td>[Sprite]</td>\n",
              "      <td>6.49</td>\n",
              "    </tr>\n",
              "    <tr>\n",
              "      <th>347</th>\n",
              "      <td>149</td>\n",
              "      <td>1</td>\n",
              "      <td>Canned Soft Drink</td>\n",
              "      <td>[Sprite]</td>\n",
              "      <td>1.25</td>\n",
              "    </tr>\n",
              "    <tr>\n",
              "      <th>...</th>\n",
              "      <td>...</td>\n",
              "      <td>...</td>\n",
              "      <td>...</td>\n",
              "      <td>...</td>\n",
              "      <td>...</td>\n",
              "    </tr>\n",
              "    <tr>\n",
              "      <th>4516</th>\n",
              "      <td>1795</td>\n",
              "      <td>1</td>\n",
              "      <td>Canned Soft Drink</td>\n",
              "      <td>[Sprite]</td>\n",
              "      <td>1.25</td>\n",
              "    </tr>\n",
              "    <tr>\n",
              "      <th>4526</th>\n",
              "      <td>1799</td>\n",
              "      <td>1</td>\n",
              "      <td>Canned Soft Drink</td>\n",
              "      <td>[Sprite]</td>\n",
              "      <td>1.25</td>\n",
              "    </tr>\n",
              "    <tr>\n",
              "      <th>4552</th>\n",
              "      <td>1809</td>\n",
              "      <td>1</td>\n",
              "      <td>Canned Soft Drink</td>\n",
              "      <td>[Sprite]</td>\n",
              "      <td>1.25</td>\n",
              "    </tr>\n",
              "    <tr>\n",
              "      <th>4565</th>\n",
              "      <td>1815</td>\n",
              "      <td>1</td>\n",
              "      <td>Canned Soft Drink</td>\n",
              "      <td>[Sprite]</td>\n",
              "      <td>1.25</td>\n",
              "    </tr>\n",
              "    <tr>\n",
              "      <th>4609</th>\n",
              "      <td>1829</td>\n",
              "      <td>1</td>\n",
              "      <td>Canned Soft Drink</td>\n",
              "      <td>[Sprite]</td>\n",
              "      <td>1.25</td>\n",
              "    </tr>\n",
              "  </tbody>\n",
              "</table>\n",
              "<p>77 rows × 5 columns</p>\n",
              "</div>"
            ],
            "text/plain": [
              "      order_id  quantity          item_name choice_description  price\n",
              "18           9         2        Canned Soda           [Sprite]   2.18\n",
              "53          24         1        Canned Soda           [Sprite]   1.09\n",
              "292        127         1  Canned Soft Drink           [Sprite]   1.25\n",
              "298        129         1  6 Pack Soft Drink           [Sprite]   6.49\n",
              "347        149         1  Canned Soft Drink           [Sprite]   1.25\n",
              "...        ...       ...                ...                ...    ...\n",
              "4516      1795         1  Canned Soft Drink           [Sprite]   1.25\n",
              "4526      1799         1  Canned Soft Drink           [Sprite]   1.25\n",
              "4552      1809         1  Canned Soft Drink           [Sprite]   1.25\n",
              "4565      1815         1  Canned Soft Drink           [Sprite]   1.25\n",
              "4609      1829         1  Canned Soft Drink           [Sprite]   1.25\n",
              "\n",
              "[77 rows x 5 columns]"
            ]
          },
          "metadata": {
            "tags": []
          },
          "execution_count": 20
        }
      ]
    },
    {
      "cell_type": "markdown",
      "metadata": {
        "id": "4XZiN6Ht5Bdd"
      },
      "source": [
        "Судя по первым двум строкам, цена дана за позицию в заказе, а не за один предмет. Значит для нахождения настоящей цены надо делить на количество. \n"
      ]
    },
    {
      "cell_type": "code",
      "metadata": {
        "id": "AL1oD5d35NAL"
      },
      "source": [
        "df['product_price'] = df['price']/df['quantity']"
      ],
      "execution_count": 21,
      "outputs": []
    },
    {
      "cell_type": "markdown",
      "metadata": {
        "id": "UxlFuqqg9RuK"
      },
      "source": [
        "Самые дешевые и дорогие товары с учетом описания. "
      ]
    },
    {
      "cell_type": "code",
      "metadata": {
        "id": "KqAxn5TI8Y_F",
        "outputId": "39889f34-6272-4bb8-bec4-de7af2d1455f",
        "colab": {
          "base_uri": "https://localhost:8080/",
          "height": 402
        }
      },
      "source": [
        "df[['item_name','choice_description','product_price']].drop_duplicates().sort_values('product_price')"
      ],
      "execution_count": 22,
      "outputs": [
        {
          "output_type": "execute_result",
          "data": {
            "text/html": [
              "<div>\n",
              "<style scoped>\n",
              "    .dataframe tbody tr th:only-of-type {\n",
              "        vertical-align: middle;\n",
              "    }\n",
              "\n",
              "    .dataframe tbody tr th {\n",
              "        vertical-align: top;\n",
              "    }\n",
              "\n",
              "    .dataframe thead th {\n",
              "        text-align: right;\n",
              "    }\n",
              "</style>\n",
              "<table border=\"1\" class=\"dataframe\">\n",
              "  <thead>\n",
              "    <tr style=\"text-align: right;\">\n",
              "      <th></th>\n",
              "      <th>item_name</th>\n",
              "      <th>choice_description</th>\n",
              "      <th>product_price</th>\n",
              "    </tr>\n",
              "  </thead>\n",
              "  <tbody>\n",
              "    <tr>\n",
              "      <th>34</th>\n",
              "      <td>Bottled Water</td>\n",
              "      <td></td>\n",
              "      <td>1.09</td>\n",
              "    </tr>\n",
              "    <tr>\n",
              "      <th>28</th>\n",
              "      <td>Canned Soda</td>\n",
              "      <td>[Dr. Pepper]</td>\n",
              "      <td>1.09</td>\n",
              "    </tr>\n",
              "    <tr>\n",
              "      <th>51</th>\n",
              "      <td>Canned Soda</td>\n",
              "      <td>[Mountain Dew]</td>\n",
              "      <td>1.09</td>\n",
              "    </tr>\n",
              "    <tr>\n",
              "      <th>18</th>\n",
              "      <td>Canned Soda</td>\n",
              "      <td>[Sprite]</td>\n",
              "      <td>1.09</td>\n",
              "    </tr>\n",
              "    <tr>\n",
              "      <th>117</th>\n",
              "      <td>Canned Soda</td>\n",
              "      <td>[Diet Dr. Pepper]</td>\n",
              "      <td>1.09</td>\n",
              "    </tr>\n",
              "    <tr>\n",
              "      <th>...</th>\n",
              "      <td>...</td>\n",
              "      <td>...</td>\n",
              "      <td>...</td>\n",
              "    </tr>\n",
              "    <tr>\n",
              "      <th>2442</th>\n",
              "      <td>Barbacoa Salad Bowl</td>\n",
              "      <td>[Tomatillo Green Chili Salsa, [Rice, Fajita Ve...</td>\n",
              "      <td>11.89</td>\n",
              "    </tr>\n",
              "    <tr>\n",
              "      <th>1590</th>\n",
              "      <td>Steak Salad Bowl</td>\n",
              "      <td>[Fresh Tomato Salsa, [Fajita Vegetables, Rice,...</td>\n",
              "      <td>11.89</td>\n",
              "    </tr>\n",
              "    <tr>\n",
              "      <th>1229</th>\n",
              "      <td>Barbacoa Salad Bowl</td>\n",
              "      <td>[Fresh Tomato Salsa, [Rice, Fajita Vegetables,...</td>\n",
              "      <td>11.89</td>\n",
              "    </tr>\n",
              "    <tr>\n",
              "      <th>3120</th>\n",
              "      <td>Steak Salad Bowl</td>\n",
              "      <td>[Roasted Chili Corn Salsa, [Fajita Vegetables,...</td>\n",
              "      <td>11.89</td>\n",
              "    </tr>\n",
              "    <tr>\n",
              "      <th>1571</th>\n",
              "      <td>Steak Salad Bowl</td>\n",
              "      <td>[Fresh Tomato Salsa, [Fajita Vegetables, Sour ...</td>\n",
              "      <td>11.89</td>\n",
              "    </tr>\n",
              "  </tbody>\n",
              "</table>\n",
              "<p>1880 rows × 3 columns</p>\n",
              "</div>"
            ],
            "text/plain": [
              "                item_name  ... product_price\n",
              "34          Bottled Water  ...          1.09\n",
              "28            Canned Soda  ...          1.09\n",
              "51            Canned Soda  ...          1.09\n",
              "18            Canned Soda  ...          1.09\n",
              "117           Canned Soda  ...          1.09\n",
              "...                   ...  ...           ...\n",
              "2442  Barbacoa Salad Bowl  ...         11.89\n",
              "1590     Steak Salad Bowl  ...         11.89\n",
              "1229  Barbacoa Salad Bowl  ...         11.89\n",
              "3120     Steak Salad Bowl  ...         11.89\n",
              "1571     Steak Salad Bowl  ...         11.89\n",
              "\n",
              "[1880 rows x 3 columns]"
            ]
          },
          "metadata": {
            "tags": []
          },
          "execution_count": 22
        }
      ]
    },
    {
      "cell_type": "markdown",
      "metadata": {
        "id": "2I_C-rSa9h1P"
      },
      "source": [
        "Самые дешевые и дорогие товары без учета описания. "
      ]
    },
    {
      "cell_type": "code",
      "metadata": {
        "id": "RG72XEbN9h1Q",
        "outputId": "b7ebcc1e-964d-407f-f935-1f06c2bb32b4",
        "colab": {
          "base_uri": "https://localhost:8080/",
          "height": 402
        }
      },
      "source": [
        "df[['item_name','product_price']].drop_duplicates().sort_values('product_price')"
      ],
      "execution_count": 23,
      "outputs": [
        {
          "output_type": "execute_result",
          "data": {
            "text/html": [
              "<div>\n",
              "<style scoped>\n",
              "    .dataframe tbody tr th:only-of-type {\n",
              "        vertical-align: middle;\n",
              "    }\n",
              "\n",
              "    .dataframe tbody tr th {\n",
              "        vertical-align: top;\n",
              "    }\n",
              "\n",
              "    .dataframe thead th {\n",
              "        text-align: right;\n",
              "    }\n",
              "</style>\n",
              "<table border=\"1\" class=\"dataframe\">\n",
              "  <thead>\n",
              "    <tr style=\"text-align: right;\">\n",
              "      <th></th>\n",
              "      <th>item_name</th>\n",
              "      <th>product_price</th>\n",
              "    </tr>\n",
              "  </thead>\n",
              "  <tbody>\n",
              "    <tr>\n",
              "      <th>18</th>\n",
              "      <td>Canned Soda</td>\n",
              "      <td>1.09</td>\n",
              "    </tr>\n",
              "    <tr>\n",
              "      <th>34</th>\n",
              "      <td>Bottled Water</td>\n",
              "      <td>1.09</td>\n",
              "    </tr>\n",
              "    <tr>\n",
              "      <th>263</th>\n",
              "      <td>Canned Soft Drink</td>\n",
              "      <td>1.25</td>\n",
              "    </tr>\n",
              "    <tr>\n",
              "      <th>329</th>\n",
              "      <td>Bottled Water</td>\n",
              "      <td>1.50</td>\n",
              "    </tr>\n",
              "    <tr>\n",
              "      <th>6</th>\n",
              "      <td>Side of Chips</td>\n",
              "      <td>1.69</td>\n",
              "    </tr>\n",
              "    <tr>\n",
              "      <th>...</th>\n",
              "      <td>...</td>\n",
              "      <td>...</td>\n",
              "    </tr>\n",
              "    <tr>\n",
              "      <th>93</th>\n",
              "      <td>Carnitas Burrito</td>\n",
              "      <td>11.75</td>\n",
              "    </tr>\n",
              "    <tr>\n",
              "      <th>1963</th>\n",
              "      <td>Carnitas Soft Tacos</td>\n",
              "      <td>11.75</td>\n",
              "    </tr>\n",
              "    <tr>\n",
              "      <th>281</th>\n",
              "      <td>Steak Salad Bowl</td>\n",
              "      <td>11.89</td>\n",
              "    </tr>\n",
              "    <tr>\n",
              "      <th>1229</th>\n",
              "      <td>Barbacoa Salad Bowl</td>\n",
              "      <td>11.89</td>\n",
              "    </tr>\n",
              "    <tr>\n",
              "      <th>1132</th>\n",
              "      <td>Carnitas Salad Bowl</td>\n",
              "      <td>11.89</td>\n",
              "    </tr>\n",
              "  </tbody>\n",
              "</table>\n",
              "<p>139 rows × 2 columns</p>\n",
              "</div>"
            ],
            "text/plain": [
              "                item_name  product_price\n",
              "18            Canned Soda           1.09\n",
              "34          Bottled Water           1.09\n",
              "263     Canned Soft Drink           1.25\n",
              "329         Bottled Water           1.50\n",
              "6           Side of Chips           1.69\n",
              "...                   ...            ...\n",
              "93       Carnitas Burrito          11.75\n",
              "1963  Carnitas Soft Tacos          11.75\n",
              "281      Steak Salad Bowl          11.89\n",
              "1229  Barbacoa Salad Bowl          11.89\n",
              "1132  Carnitas Salad Bowl          11.89\n",
              "\n",
              "[139 rows x 2 columns]"
            ]
          },
          "metadata": {
            "tags": []
          },
          "execution_count": 23
        }
      ]
    },
    {
      "cell_type": "markdown",
      "metadata": {
        "id": "0HRpF2QW8Y_J"
      },
      "source": [
        "#### 6. [0.5 баллов] Сколько раз клиенты покупали больше 1 Chicken Bowl (item_name)?"
      ]
    },
    {
      "cell_type": "code",
      "metadata": {
        "id": "Gi8g5zLM8Y_K",
        "outputId": "655c7c14-50da-47f2-b9a1-4f1ced2b976d",
        "colab": {
          "base_uri": "https://localhost:8080/"
        }
      },
      "source": [
        "# Всего таких строк:\n",
        "print( df[(df['item_name']=='Chicken Bowl') & (df['quantity']>1)].index.nunique() )\n",
        "# Всего уникальных заказов с таким свойством\n",
        "print( df[(df['item_name']=='Chicken Bowl') & (df['quantity']>1)]['order_id'].nunique() )"
      ],
      "execution_count": 24,
      "outputs": [
        {
          "output_type": "stream",
          "text": [
            "33\n",
            "33\n"
          ],
          "name": "stdout"
        }
      ]
    },
    {
      "cell_type": "markdown",
      "metadata": {
        "id": "pFZxwnn78Y_N"
      },
      "source": [
        "#### 7. [0.5 баллов] Какой средний чек у заказа? Сколько в среднем товаров покупают?\n",
        "\n",
        "Если необходимо провести вычисления в терминах заказов, то будет удобно сгруппировать строки по заказам и посчитать необходимые статистики."
      ]
    },
    {
      "cell_type": "code",
      "metadata": {
        "id": "ci1uoHz5HmLs",
        "outputId": "3d094ee3-fd4c-4049-afc7-f0d710f06d11",
        "colab": {
          "base_uri": "https://localhost:8080/"
        }
      },
      "source": [
        "# Средний чек:\n",
        "print( df.groupby('order_id')['price'].sum().mean() )\n",
        "# В среднем товаров:\n",
        "print( df.groupby('order_id')['quantity'].sum().mean() ) "
      ],
      "execution_count": 25,
      "outputs": [
        {
          "output_type": "stream",
          "text": [
            "18.81142857142869\n",
            "2.711014176663032\n"
          ],
          "name": "stdout"
        }
      ]
    },
    {
      "cell_type": "markdown",
      "metadata": {
        "id": "lOji7n6m8Y_S"
      },
      "source": [
        "#### 8. [0.25 баллов] Сколько заказов содержали ровно 1 товар?"
      ]
    },
    {
      "cell_type": "code",
      "metadata": {
        "id": "cJIU2Re28Y_T",
        "outputId": "98e6be7e-94a5-4600-95f3-27664057ca28",
        "colab": {
          "base_uri": "https://localhost:8080/"
        }
      },
      "source": [
        "orders = df.groupby('order_id')['quantity'].sum()\n",
        "orders[orders==1].count()"
      ],
      "execution_count": 26,
      "outputs": [
        {
          "output_type": "execute_result",
          "data": {
            "text/plain": [
              "56"
            ]
          },
          "metadata": {
            "tags": []
          },
          "execution_count": 26
        }
      ]
    },
    {
      "cell_type": "markdown",
      "metadata": {
        "id": "4tKy0WER8Y_X"
      },
      "source": [
        "#### 9. [0.25 баллов] Какая самая популярная категория товара? "
      ]
    },
    {
      "cell_type": "markdown",
      "metadata": {
        "id": "pceXO8A6JZrG"
      },
      "source": [
        "Под категорией мы понимаем item_name. Под популярностью - сколько таких товаров было куплено (не сколько раз он попадал в заказ). "
      ]
    },
    {
      "cell_type": "code",
      "metadata": {
        "id": "bW_IwAeG8Y_X",
        "outputId": "d63889d2-9e82-4017-9497-878dddd5daa8",
        "colab": {
          "base_uri": "https://localhost:8080/"
        }
      },
      "source": [
        "# Самые популярные категории:\n",
        "df.groupby('item_name')['quantity'].sum().sort_values(ascending=False).head()"
      ],
      "execution_count": 28,
      "outputs": [
        {
          "output_type": "execute_result",
          "data": {
            "text/plain": [
              "item_name\n",
              "Chicken Bowl           761\n",
              "Chicken Burrito        591\n",
              "Chips and Guacamole    506\n",
              "Steak Burrito          386\n",
              "Canned Soft Drink      351\n",
              "Name: quantity, dtype: int64"
            ]
          },
          "metadata": {
            "tags": []
          },
          "execution_count": 28
        }
      ]
    },
    {
      "cell_type": "markdown",
      "metadata": {
        "id": "2nlmHQix8Y_b"
      },
      "source": [
        "#### 10. [0.5 баллов] Какие виды Burrito существуют? Какой из них чаще всего покупают? Какой из них самый дорогой? "
      ]
    },
    {
      "cell_type": "code",
      "metadata": {
        "id": "0DM1NmqsLEBh",
        "outputId": "bba11928-fedd-4ac2-c66a-924dc931ef04",
        "colab": {
          "base_uri": "https://localhost:8080/"
        }
      },
      "source": [
        "burritos = df[(df['item_name'].str.contains('Burrito')) | (df['choice_description'].str.contains('Burrito'))]\n",
        "# Уникальные виды:\n",
        "burritos[['item_name','choice_description']].nunique()"
      ],
      "execution_count": 29,
      "outputs": [
        {
          "output_type": "execute_result",
          "data": {
            "text/plain": [
              "item_name               6\n",
              "choice_description    573\n",
              "dtype: int64"
            ]
          },
          "metadata": {
            "tags": []
          },
          "execution_count": 29
        }
      ]
    },
    {
      "cell_type": "markdown",
      "metadata": {
        "id": "lP4ceo-lPADV"
      },
      "source": [
        "Видно, что подвидов буритто многовато (573). Видимо, задание не про подвиды, а про основные виды. Давайте их и анализировать. Виды и количество покупок того или иного вида:\n",
        "\n"
      ]
    },
    {
      "cell_type": "code",
      "metadata": {
        "id": "eP3Mpcvh8Y_c",
        "outputId": "c651fbe4-ba75-46ad-fb05-d9c788b2385a",
        "colab": {
          "base_uri": "https://localhost:8080/"
        }
      },
      "source": [
        "burritos.groupby('item_name')['quantity'].sum().sort_values(ascending = False)"
      ],
      "execution_count": 30,
      "outputs": [
        {
          "output_type": "execute_result",
          "data": {
            "text/plain": [
              "item_name\n",
              "Chicken Burrito     591\n",
              "Steak Burrito       386\n",
              "Veggie Burrito       97\n",
              "Barbacoa Burrito     91\n",
              "Carnitas Burrito     60\n",
              "Burrito               6\n",
              "Name: quantity, dtype: int64"
            ]
          },
          "metadata": {
            "tags": []
          },
          "execution_count": 30
        }
      ]
    },
    {
      "cell_type": "markdown",
      "metadata": {
        "id": "dZnxYGmlPwKN"
      },
      "source": [
        "Заметим, что один и тот же вид может стоить по-разному (из-за подвидов). Понимать, какой из них самый дорогой можно тоже по-разному. Например, самый дорогой проданный буритто - первая строка в этом запросе:\n"
      ]
    },
    {
      "cell_type": "code",
      "metadata": {
        "id": "SQIcWZQKP3rB",
        "outputId": "310f3e69-fe79-4f7c-9e76-25ddfb4b14c9",
        "colab": {
          "base_uri": "https://localhost:8080/",
          "height": 402
        }
      },
      "source": [
        "burritos.sort_values('product_price', ascending=False)"
      ],
      "execution_count": 31,
      "outputs": [
        {
          "output_type": "execute_result",
          "data": {
            "text/html": [
              "<div>\n",
              "<style scoped>\n",
              "    .dataframe tbody tr th:only-of-type {\n",
              "        vertical-align: middle;\n",
              "    }\n",
              "\n",
              "    .dataframe tbody tr th {\n",
              "        vertical-align: top;\n",
              "    }\n",
              "\n",
              "    .dataframe thead th {\n",
              "        text-align: right;\n",
              "    }\n",
              "</style>\n",
              "<table border=\"1\" class=\"dataframe\">\n",
              "  <thead>\n",
              "    <tr style=\"text-align: right;\">\n",
              "      <th></th>\n",
              "      <th>order_id</th>\n",
              "      <th>quantity</th>\n",
              "      <th>item_name</th>\n",
              "      <th>choice_description</th>\n",
              "      <th>price</th>\n",
              "      <th>product_price</th>\n",
              "    </tr>\n",
              "  </thead>\n",
              "  <tbody>\n",
              "    <tr>\n",
              "      <th>7</th>\n",
              "      <td>4</td>\n",
              "      <td>1</td>\n",
              "      <td>Steak Burrito</td>\n",
              "      <td>[Tomatillo Red Chili Salsa, [Fajita Vegetables...</td>\n",
              "      <td>11.75</td>\n",
              "      <td>11.75</td>\n",
              "    </tr>\n",
              "    <tr>\n",
              "      <th>1717</th>\n",
              "      <td>691</td>\n",
              "      <td>1</td>\n",
              "      <td>Steak Burrito</td>\n",
              "      <td>[Fresh Tomato Salsa, [Rice, Black Beans, Chees...</td>\n",
              "      <td>11.75</td>\n",
              "      <td>11.75</td>\n",
              "    </tr>\n",
              "    <tr>\n",
              "      <th>1333</th>\n",
              "      <td>545</td>\n",
              "      <td>1</td>\n",
              "      <td>Steak Burrito</td>\n",
              "      <td>[Roasted Chili Corn Salsa, [Rice, Pinto Beans,...</td>\n",
              "      <td>11.75</td>\n",
              "      <td>11.75</td>\n",
              "    </tr>\n",
              "    <tr>\n",
              "      <th>1337</th>\n",
              "      <td>546</td>\n",
              "      <td>1</td>\n",
              "      <td>Carnitas Burrito</td>\n",
              "      <td>[Tomatillo Green Chili Salsa, [Rice, Fajita Ve...</td>\n",
              "      <td>11.75</td>\n",
              "      <td>11.75</td>\n",
              "    </tr>\n",
              "    <tr>\n",
              "      <th>1388</th>\n",
              "      <td>564</td>\n",
              "      <td>1</td>\n",
              "      <td>Steak Burrito</td>\n",
              "      <td>[Fresh Tomato Salsa, [Rice, Sour Cream, Guacam...</td>\n",
              "      <td>11.75</td>\n",
              "      <td>11.75</td>\n",
              "    </tr>\n",
              "    <tr>\n",
              "      <th>...</th>\n",
              "      <td>...</td>\n",
              "      <td>...</td>\n",
              "      <td>...</td>\n",
              "      <td>...</td>\n",
              "      <td>...</td>\n",
              "      <td>...</td>\n",
              "    </tr>\n",
              "    <tr>\n",
              "      <th>760</th>\n",
              "      <td>313</td>\n",
              "      <td>1</td>\n",
              "      <td>Burrito</td>\n",
              "      <td>[White Rice, Adobo-Marinated and Grilled Steak...</td>\n",
              "      <td>7.40</td>\n",
              "      <td>7.40</td>\n",
              "    </tr>\n",
              "    <tr>\n",
              "      <th>759</th>\n",
              "      <td>313</td>\n",
              "      <td>1</td>\n",
              "      <td>Burrito</td>\n",
              "      <td>[White Rice, Adobo-Marinated and Grilled Steak...</td>\n",
              "      <td>7.40</td>\n",
              "      <td>7.40</td>\n",
              "    </tr>\n",
              "    <tr>\n",
              "      <th>510</th>\n",
              "      <td>214</td>\n",
              "      <td>1</td>\n",
              "      <td>Burrito</td>\n",
              "      <td>[Adobo-Marinated and Grilled Chicken, Pinto Be...</td>\n",
              "      <td>7.40</td>\n",
              "      <td>7.40</td>\n",
              "    </tr>\n",
              "    <tr>\n",
              "      <th>675</th>\n",
              "      <td>279</td>\n",
              "      <td>1</td>\n",
              "      <td>Burrito</td>\n",
              "      <td>[Adobo-Marinated and Grilled Chicken, [Sour Cr...</td>\n",
              "      <td>7.40</td>\n",
              "      <td>7.40</td>\n",
              "    </tr>\n",
              "    <tr>\n",
              "      <th>519</th>\n",
              "      <td>217</td>\n",
              "      <td>1</td>\n",
              "      <td>Burrito</td>\n",
              "      <td>[Braised Barbacoa, Pinto Beans, [Sour Cream, S...</td>\n",
              "      <td>7.40</td>\n",
              "      <td>7.40</td>\n",
              "    </tr>\n",
              "  </tbody>\n",
              "</table>\n",
              "<p>1172 rows × 6 columns</p>\n",
              "</div>"
            ],
            "text/plain": [
              "      order_id  quantity  ...  price product_price\n",
              "7            4         1  ...  11.75         11.75\n",
              "1717       691         1  ...  11.75         11.75\n",
              "1333       545         1  ...  11.75         11.75\n",
              "1337       546         1  ...  11.75         11.75\n",
              "1388       564         1  ...  11.75         11.75\n",
              "...        ...       ...  ...    ...           ...\n",
              "760        313         1  ...   7.40          7.40\n",
              "759        313         1  ...   7.40          7.40\n",
              "510        214         1  ...   7.40          7.40\n",
              "675        279         1  ...   7.40          7.40\n",
              "519        217         1  ...   7.40          7.40\n",
              "\n",
              "[1172 rows x 6 columns]"
            ]
          },
          "metadata": {
            "tags": []
          },
          "execution_count": 31
        }
      ]
    },
    {
      "cell_type": "markdown",
      "metadata": {
        "id": "0wostFNtRZkq"
      },
      "source": [
        "Давайте посчитаем по-другому. Для каждого вида буритто найдем среднюю цену его подвидов. Просто по ценнику, не учитывая то, что какие-то продавались чаще чем другие. "
      ]
    },
    {
      "cell_type": "code",
      "metadata": {
        "id": "_yyHXWFqRx17",
        "outputId": "db15436f-e3ef-47f7-dc14-3310528e0ee9",
        "colab": {
          "base_uri": "https://localhost:8080/"
        }
      },
      "source": [
        "buritto_menu = burritos[['item_name','choice_description','product_price']].drop_duplicates()\n",
        "buritto_menu.groupby('item_name')['product_price'].mean().sort_values(ascending = False)"
      ],
      "execution_count": 32,
      "outputs": [
        {
          "output_type": "execute_result",
          "data": {
            "text/plain": [
              "item_name\n",
              "Steak Burrito       10.032789\n",
              "Carnitas Burrito    10.019362\n",
              "Barbacoa Burrito     9.979577\n",
              "Veggie Burrito       9.757931\n",
              "Chicken Burrito      9.563194\n",
              "Burrito              7.400000\n",
              "Name: product_price, dtype: float64"
            ]
          },
          "metadata": {
            "tags": []
          },
          "execution_count": 32
        }
      ]
    },
    {
      "cell_type": "markdown",
      "metadata": {
        "collapsed": true,
        "id": "8tMgiODA8Y_g"
      },
      "source": [
        "#### 11. [0.75 баллов] В каком количестве заказов есть товар, который стоит более 40% от суммы всего чека?\n",
        "\n",
        "Возможно, будет удобно посчитать отдельно среднюю стоимость заказа, добавить ее в исходные данные и сделать необходимые проверки.\n",
        "\n",
        "*Данный комментарий стоит воспринимать как подсказку к одному из вариантов решений задания. Если в вашем варианте решения он не нужнен, это не страшно*"
      ]
    },
    {
      "cell_type": "markdown",
      "metadata": {
        "id": "HgoYtBm1Yhsu"
      },
      "source": [
        "Уточнение: мы провярем долю товара, а не позиции в заказе. Иными словами, если в заказе есть 10 одинаковых товаров, то он не будет учтен, так как доля любого (=единственного) товара составляет 10% (<40%).  "
      ]
    },
    {
      "cell_type": "code",
      "metadata": {
        "id": "boihfiD68Y_h",
        "outputId": "b7435505-a24a-4f5b-cdd8-7496547820c3",
        "colab": {
          "base_uri": "https://localhost:8080/"
        }
      },
      "source": [
        "order_prices = df.groupby('order_id')['price'].sum().reset_index(name = 'order_price')\n",
        "df = df.merge(order_prices, how = 'left', on = 'order_id')\n",
        "df['item_share'] = df['product_price']/df['order_price']\n",
        "sum(df.groupby('order_id')['item_share'].max() > 0.4)"
      ],
      "execution_count": 33,
      "outputs": [
        {
          "output_type": "execute_result",
          "data": {
            "text/plain": [
              "1589"
            ]
          },
          "metadata": {
            "tags": []
          },
          "execution_count": 33
        }
      ]
    },
    {
      "cell_type": "markdown",
      "metadata": {
        "id": "8XOTQGQa8Y_m"
      },
      "source": [
        "#### 12. [0.75 баллов] Предположим, что в данных была ошибка и Diet Coke (choice_description), который стоил $1.25, должен был стоить 1.35. Скорректируйте данные в таблицы и посчитайте, на какой процент больше денег было заработано с этого товара. Не забывайте, что количество товара не всегда равно 1."
      ]
    },
    {
      "cell_type": "code",
      "metadata": {
        "id": "Uyv51mw4c9e-"
      },
      "source": [
        "# Заменяем только те позиции, что стоили 1.25. Конечно, в отдельном датасете\n",
        "df_updated = df.copy()\n",
        "df_updated.loc[(df_updated['choice_description'] == '[Diet Coke]') & (df_updated['product_price'] == 1.25),'product_price'] = 1.35\n",
        "# Теперь надо пересчитать price. Так как данных немного, можем для простоты пересчитать всё:)\n",
        "df_updated['price'] = df_updated['quantity'] * df_updated['product_price'] "
      ],
      "execution_count": 34,
      "outputs": []
    },
    {
      "cell_type": "markdown",
      "metadata": {
        "id": "yHTRfsTmgabe"
      },
      "source": [
        "Опять двусмысленность. Если мы хотим узнать увеличение выручки по именно этому товару (Diet Coke за 1.25), то ответ прост: $\\frac{1.35}{1.25}-1 \\approx 8\\%$. \n",
        "\n",
        "Пусть теперь мы хотим узнать увеличение по всей категории Diet Coke.\n",
        "\n",
        "\n"
      ]
    },
    {
      "cell_type": "code",
      "metadata": {
        "id": "AnQX8O6Vg1EX",
        "outputId": "fbdc1d7d-7f54-446b-aeeb-93703851e40c",
        "colab": {
          "base_uri": "https://localhost:8080/"
        }
      },
      "source": [
        "old_revenue = df.loc[df['choice_description'] == '[Diet Coke]', 'price'].sum()\n",
        "new_revenue = df_updated.loc[df_updated['choice_description'] == '[Diet Coke]', 'price'].sum()\n",
        "\n",
        "new_revenue/old_revenue-1"
      ],
      "execution_count": 35,
      "outputs": [
        {
          "output_type": "execute_result",
          "data": {
            "text/plain": [
              "0.03519941232285517"
            ]
          },
          "metadata": {
            "tags": []
          },
          "execution_count": 35
        }
      ]
    },
    {
      "cell_type": "markdown",
      "metadata": {
        "id": "XZIJyA_i8Y_q"
      },
      "source": [
        "#### 13. [0.75 баллов] Создайте новый DateFrame из матрицы, созданной ниже. Назовите колонки index, column1, column2 и сделайте первую колонку индексом."
      ]
    },
    {
      "cell_type": "code",
      "metadata": {
        "id": "w53K32mt8Y_r"
      },
      "source": [
        "data = np.random.rand(10, 3)\n",
        "data = pd.DataFrame(data, columns=['index','column1','column2'])\n",
        "data.set_index('index', inplace=True)"
      ],
      "execution_count": 36,
      "outputs": []
    },
    {
      "cell_type": "markdown",
      "metadata": {
        "id": "uSXcbfmX8Y_v"
      },
      "source": [
        "Сохраните DataFrame на диск в формате csv без индексов и названий столбцов."
      ]
    },
    {
      "cell_type": "code",
      "metadata": {
        "id": "xG8h77xg8Y_x"
      },
      "source": [
        "data.to_csv('random_data.csv', header=False, index = False)"
      ],
      "execution_count": 37,
      "outputs": []
    },
    {
      "cell_type": "markdown",
      "metadata": {
        "id": "dJbCc21K8Y_0"
      },
      "source": [
        "## 2. Визуализации и matplotlib"
      ]
    },
    {
      "cell_type": "markdown",
      "metadata": {
        "id": "pYjVRr6V8Y_1"
      },
      "source": [
        "При работе с данными часто неудобно делать какие-то выводы, если смотреть на таблицу и числа в частности, поэтому важно уметь визуализировать данные. В этом разделе мы этим и займёмся.\n",
        "\n",
        "У matplotlib, конечно, же есть [документация](https://matplotlib.org/users/index.html) с большим количеством [примеров](https://matplotlib.org/examples/), но для начала достаточно знать про несколько основных типов графиков:\n",
        "- plot — обычный поточечный график, которым можно изображать кривые или отдельные точки;\n",
        "- hist — гистограмма, показывающая распределение некоторое величины;\n",
        "- scatter — график, показывающий взаимосвязь двух величин;\n",
        "- bar — столбцовый график, показывающий взаимосвязь количественной величины от категориальной.\n",
        "\n",
        "В этом задании вы попробуете построить каждый из них. Не менее важно усвоить базовые принципы визуализаций:\n",
        "- на графиках должны быть подписаны оси;\n",
        "- у визуализации должно быть название;\n",
        "- если изображено несколько графиков, то необходима поясняющая легенда;\n",
        "- все линии на графиках должны быть чётко видны (нет похожих цветов или цветов, сливающихся с фоном);\n",
        "- если отображена величина, имеющая очевидный диапазон значений (например, проценты могут быть от 0 до 100), то желательно масштабировать ось на весь диапазон значений (исключением является случай, когда вам необходимо показать малое отличие, которое незаметно в таких масштабах).\n",
        "- сетка на графике помогает оценить значения в точках на глаз, это обычно полезно, поэтому лучше ее отрисовывать."
      ]
    },
    {
      "cell_type": "code",
      "metadata": {
        "id": "tSj1Rxs98Y_2"
      },
      "source": [
        "%matplotlib inline \n",
        "import matplotlib.pyplot as plt"
      ],
      "execution_count": 38,
      "outputs": []
    },
    {
      "cell_type": "markdown",
      "metadata": {
        "id": "7jcUiWVg8Y_5"
      },
      "source": [
        "На самом деле мы уже импортировали matplotlib внутри %pylab inline в начале задания.\n",
        "\n",
        "Работать мы будем с той же выборкой покупкок. Добавим новую колонку с датой покупки."
      ]
    },
    {
      "cell_type": "code",
      "metadata": {
        "id": "-n1zXCN28Y_6"
      },
      "source": [
        "import datetime\n",
        "\n",
        "start = datetime.datetime(2018, 1, 1)\n",
        "end = datetime.datetime(2018, 1, 31)\n",
        "delta_seconds = int((end - start).total_seconds())\n",
        "\n",
        "dates = pd.DataFrame(index=df.order_id.unique())\n",
        "dates['date'] = [\n",
        "    (start + datetime.timedelta(seconds=random.randint(0, delta_seconds))).strftime('%Y-%m-%d')\n",
        "    for _ in range(df.order_id.nunique())]\n",
        "\n",
        "# если DataFrame с покупками из прошлого заказа называется не df, замените на ваше название ниже\n",
        "df['date'] = df.order_id.map(dates['date'])"
      ],
      "execution_count": 39,
      "outputs": []
    },
    {
      "cell_type": "markdown",
      "metadata": {
        "id": "QM11Gstc8Y_9"
      },
      "source": [
        "#### 1. [1 балл] Постройте гистограмму распределения сумм покупок и гистограмму средних цен отдельных видов продуктов item_name. \n",
        "\n",
        "\n",
        "Изображайте на двух соседних графиках. Для этого может быть полезен subplot."
      ]
    },
    {
      "cell_type": "code",
      "metadata": {
        "id": "gCvjBqYEb9FB",
        "outputId": "201ccb7c-180a-4959-cf32-4fefce55f937",
        "colab": {
          "base_uri": "https://localhost:8080/",
          "height": 383
        }
      },
      "source": [
        "fig, ax = plt.subplots(ncols = 2, nrows = 1, figsize = (20, 6))\n",
        "\n",
        "\n",
        "ax[0].hist(order_prices['order_price'], 20, color = 'darkblue')\n",
        "ax[0].set_title('Распределение сумм покупок')\n",
        "ax[0].set_xlabel('Сумма покупки')\n",
        "ax[0].set_ylabel('Количество покупок с такой суммой')\n",
        "ax[0].grid(True)\n",
        "\n",
        "products = df[['item_name','choice_description','product_price']].drop_duplicates()\n",
        "ax[1].hist(products.groupby('item_name')['product_price'].mean(), 20, color = 'red')\n",
        "ax[1].set_title('Распределение средних цен продуктов')\n",
        "ax[1].set_xlabel('Средняя цена продукта')\n",
        "ax[1].set_ylabel('Количество продуктов с такой средней ценой')\n",
        "ax[1].grid(True)\n",
        "\n",
        "plt.show()"
      ],
      "execution_count": 40,
      "outputs": [
        {
          "output_type": "display_data",
          "data": {
            "image/png": "[encoded data removed]",
            "text/plain": [
              "<Figure size 1440x432 with 2 Axes>"
            ]
          },
          "metadata": {
            "tags": [],
            "needs_background": "light"
          }
        }
      ]
    },
    {
      "cell_type": "markdown",
      "metadata": {
        "id": "_yZ4Tx9f8ZAB"
      },
      "source": [
        "#### 2. [1 балл] Постройте график зависимости суммы покупок от дней."
      ]
    },
    {
      "cell_type": "code",
      "metadata": {
        "id": "vRkPwU8I8ZAB",
        "outputId": "ccdbf1c6-5944-4de0-afe9-2759e4e36b38",
        "colab": {
          "base_uri": "https://localhost:8080/",
          "height": 280
        }
      },
      "source": [
        "import matplotlib.ticker as ticker\n",
        "\n",
        "days_revenue = df[['order_id','order_price','date']].drop_duplicates().groupby('date')['order_price'].sum()\n",
        "\n",
        "fig, ax = plt.subplots(figsize = (20, 4))\n",
        "\n",
        "ax.plot(days_revenue)\n",
        "ax.set_title('Суммы покупок по дням')\n",
        "ax.set_xlabel('Дата')\n",
        "ax.set_ylabel('Купленно в этот день на сумму')\n",
        "ax.grid(True)\n",
        "ax.xaxis.set_major_locator(ticker.MultipleLocator(7))\n",
        "\n",
        "plt.show()"
      ],
      "execution_count": 41,
      "outputs": [
        {
          "output_type": "display_data",
          "data": {
            "image/png": "[encoded data removed]",
            "text/plain": [
              "<Figure size 1440x288 with 1 Axes>"
            ]
          },
          "metadata": {
            "tags": [],
            "needs_background": "light"
          }
        }
      ]
    },
    {
      "cell_type": "markdown",
      "metadata": {
        "id": "Y6F9jEAt8ZAG"
      },
      "source": [
        "#### 3. [1 балл] Постройте средних сумм покупок по дням недели (bar plot)."
      ]
    },
    {
      "cell_type": "code",
      "metadata": {
        "id": "KXnkjFO0CE_4",
        "outputId": "e6ebbe4a-7962-44c1-9bc8-c5c00bff9cd9",
        "colab": {
          "base_uri": "https://localhost:8080/",
          "height": 404
        }
      },
      "source": [
        "from datetime import datetime as dt\n",
        "df['weekday'] = df['date'].apply(lambda x: dt.strptime(x, '%Y-%m-%d').weekday())\n",
        "weekday_revenue = df[['weekday','order_id','order_price']].drop_duplicates().groupby('weekday')['order_price'].mean()\n",
        "\n",
        "fig, ax = plt.subplots(figsize=(12,6))\n",
        "\n",
        "ax.bar(weekday_revenue.index, weekday_revenue)\n",
        "ax.set_xticklabels(['','Mon','Tue','Wed','Thu','Fri','Sat','Sun'])\n",
        "ax.set_title('Суммы покупок по дням недели')\n",
        "ax.set_xlabel('День недели')\n",
        "ax.set_ylabel('Среднняя сумма покупки')\n",
        "ax.grid(True)\n",
        "ax.set(ylim=(15,22))\n",
        "\n",
        "plt.show()"
      ],
      "execution_count": 42,
      "outputs": [
        {
          "output_type": "display_data",
          "data": {
            "image/png": "[encoded data removed]",
            "text/plain": [
              "<Figure size 864x432 with 1 Axes>"
            ]
          },
          "metadata": {
            "tags": [],
            "needs_background": "light"
          }
        }
      ]
    },
    {
      "cell_type": "markdown",
      "metadata": {
        "id": "dl33QA2n8ZAK"
      },
      "source": [
        "#### 4. [1 балл] Постройте график зависимости денег за товар от купленного количества (scatter plot)."
      ]
    },
    {
      "cell_type": "markdown",
      "metadata": {
        "id": "G6kOy_sBd5rQ"
      },
      "source": [
        "Уточним формулировку. Для каждой категории товара (item_name) мы будем считать среднюю цену (по меню, не взвешенную по количеству покупок) товара из этой категории и количетсво раз, когда товар этой категории был куплен. На графике зависимость первого от второго. "
      ]
    },
    {
      "cell_type": "code",
      "metadata": {
        "id": "np06C4TMXVWW",
        "outputId": "3e30f7be-9503-4599-ac30-b8e07de86efd",
        "colab": {
          "base_uri": "https://localhost:8080/",
          "height": 404
        }
      },
      "source": [
        "average_prices = df[['item_name','choice_description','product_price']].drop_duplicates().groupby('item_name')['product_price'].mean()\n",
        "scatter_data = df.groupby('item_name')['quantity'].sum().to_frame()\n",
        "scatter_data = scatter_data.merge(average_prices, how = 'left', on = 'item_name')\n",
        "\n",
        "fig, ax = plt.subplots(figsize=(12,6))\n",
        "\n",
        "ax.scatter(scatter_data.quantity, scatter_data.product_price)\n",
        "ax.set_title('Зависимость средней цены товара от купленного количества')\n",
        "ax.set_xlabel('Количество проданного товара определенной категории')\n",
        "ax.set_ylabel('Средняя цена товара той же категории')\n",
        "ax.grid(True)\n",
        "\n",
        "plt.show()"
      ],
      "execution_count": 43,
      "outputs": [
        {
          "output_type": "display_data",
          "data": {
            "image/png": "[encoded data removed]",
            "text/plain": [
              "<Figure size 864x432 with 1 Axes>"
            ]
          },
          "metadata": {
            "tags": [],
            "needs_background": "light"
          }
        }
      ]
    },
    {
      "cell_type": "markdown",
      "metadata": {
        "id": "G7yhxXt78ZAO"
      },
      "source": [
        "Сохраните график в формате pdf (так он останется векторизованным)."
      ]
    },
    {
      "cell_type": "code",
      "metadata": {
        "id": "dyoxQJ_98ZAO"
      },
      "source": [
        "fig.savefig(\"price_vs_quantity_per_product.pdf\")"
      ],
      "execution_count": 44,
      "outputs": []
    },
    {
      "cell_type": "markdown",
      "metadata": {
        "id": "abU_h_h38ZAS"
      },
      "source": [
        "Еще одна билиотека для визуализации: [seaborn](https://jakevdp.github.io/PythonDataScienceHandbook/04.14-visualization-with-seaborn.html). Это настройка над matplotlib, иногда удобнее и красивее делать визуализации через неё. "
      ]
    }
  ]
}