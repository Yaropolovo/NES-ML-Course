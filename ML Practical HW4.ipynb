{
  "nbformat": 4,
  "nbformat_minor": 0,
  "metadata": {
    "kernelspec": {
      "display_name": "Python 3",
      "language": "python",
      "name": "python3"
    },
    "language_info": {
      "codemirror_mode": {
        "name": "ipython",
        "version": 3
      },
      "file_extension": ".py",
      "mimetype": "text/x-python",
      "name": "python",
      "nbconvert_exporter": "python",
      "pygments_lexer": "ipython3",
      "version": "3.8.5"
    },
    "colab": {
      "name": "homework_practice_4.ipynb",
      "provenance": [],
      "collapsed_sections": [
        "iYJYfwuNp3DM",
        "370Oy3I-p3DO"
      ],
      "toc_visible": true
    }
  },
  "cells": [
    {
      "cell_type": "markdown",
      "metadata": {
        "id": "INzUEkZxp3DG"
      },
      "source": [
        "# Машинное обучение, РЭШ\n",
        "\n",
        "## Практическое задание 4. Классификация. \n",
        "\n",
        "### Общая информация\n",
        "Дата выдачи: 25.11.2020\n",
        "\n",
        "Мягкий дедлайн: 23:59MSK 03.11.2020 (за каждый день просрочки снимается 1 балл)\n",
        "\n",
        "Жесткий дедлайн: 23:59MSK 05.11.2020"
      ]
    },
    {
      "cell_type": "markdown",
      "metadata": {
        "id": "ch4-myp4p3DJ"
      },
      "source": [
        "### О задании\n",
        "\n",
        "В этом задании вы:\n",
        "- ознакомитесь с тем, что происходит \"внутри\" метода опорных векторов и логистической регрессии\n",
        "- познакомитесь с калибровкой вероятности\n",
        "- изучите методы трансформации переменных и методы отбора признаков\n",
        "- попробуете оценить экономический эффект модели\n",
        "\n",
        "\n",
        "### Оценивание и штрафы\n",
        "Каждая из задач имеет определенную «стоимость» (указана в скобках около задачи). Максимально допустимая оценка за работу — 10 баллов.\n",
        "\n",
        "Сдавать задание после указанного срока сдачи нельзя. При выставлении неполного балла за задание в связи с наличием ошибок на усмотрение проверяющего предусмотрена возможность исправить работу на указанных в ответном письме условиях.\n",
        "\n",
        "Задание выполняется самостоятельно. «Похожие» решения считаются плагиатом и все задействованные студенты (в том числе те, у кого списали) не могут получить за него больше 0 баллов (подробнее о плагиате см. на странице курса). Если вы нашли решение какого-то из заданий (или его часть) в открытом источнике, необходимо указать ссылку на этот источник в отдельном блоке в конце вашей работы (скорее всего вы будете не единственным, кто это нашел, поэтому чтобы исключить подозрение в плагиате, необходима ссылка на источник).\n",
        "\n",
        "Неэффективная реализация кода может негативно отразиться на оценке.\n",
        "\n",
        "\n",
        "### Формат сдачи\n",
        "Для сдачи задания загрузите *.ipynb файл на my.nes.\n",
        "Для удобства проверки самостоятельно посчитайте свою максимальную оценку (исходя из набора решенных задач) и укажите ниже.\n",
        "\n",
        "**Оценка**: 10!"
      ]
    },
    {
      "cell_type": "code",
      "metadata": {
        "id": "Xe0XWj08p3DJ"
      },
      "source": [
        "import numpy as np\n",
        "import pandas as pd\n",
        "import matplotlib.pyplot as plt\n",
        "%matplotlib inline\n",
        "\n",
        "from sklearn.datasets import make_classification\n",
        "from sklearn.model_selection import train_test_split, GridSearchCV, KFold\n",
        "from sklearn.svm import LinearSVC, SVC\n",
        "from sklearn.linear_model import  LogisticRegression, LinearRegression\n",
        "from sklearn.metrics import roc_auc_score, average_precision_score, roc_curve, precision_recall_curve, auc\n",
        "import warnings\n",
        "warnings.filterwarnings('ignore')\n",
        "\n",
        "pd.set_option('display.max_rows', 100)\n",
        "pd.set_option('display.max_columns', 100)"
      ],
      "execution_count": 9,
      "outputs": []
    },
    {
      "cell_type": "markdown",
      "metadata": {
        "id": "NNyOamOPp3DK"
      },
      "source": [
        "# Часть 0. SVM, LR и калибровка вероятностей. "
      ]
    },
    {
      "cell_type": "markdown",
      "metadata": {
        "id": "X4nnZFDap3DK"
      },
      "source": [
        "Сгенерируем синтетические данные."
      ]
    },
    {
      "cell_type": "code",
      "metadata": {
        "id": "IS5YDg7Qp3DK"
      },
      "source": [
        "X, y = make_classification(\n",
        "    n_samples=10000, n_features=10, n_informative=5, n_redundant=5,\n",
        "    random_state=42)\n",
        "\n",
        "X_train, X_test, y_train, y_test = train_test_split(\n",
        "    X, y, test_size=0.3, random_state=42)"
      ],
      "execution_count": 10,
      "outputs": []
    },
    {
      "cell_type": "markdown",
      "metadata": {
        "id": "qHGMQYIqp3DL"
      },
      "source": [
        "__Задание 1.__ Обучение и применение метода опорных векторов и логистической регрессии.\n",
        "\n",
        "__(1 балл)__\n",
        "\n",
        "Обучите метод опорных векторов. На занятиях мы проходили линейный вариант без ядрового перехода, что соответствует линейному ядру (`LinearSVC` или же `SVC(kernel='linear')` в `sklearn.svm`). Подберите параметр регуляризации `C` (можете воспользоваться кросс-валидацией или отделить валидационную выборку от обучающей). "
      ]
    },
    {
      "cell_type": "code",
      "metadata": {
        "id": "B-OwRI9Pp3DL",
        "colab": {
          "base_uri": "https://localhost:8080/"
        },
        "outputId": "5e3822ea-3b85-43ea-9a7c-45ac2f22cc92"
      },
      "source": [
        "C_values = np.linspace(0.01, 10, 10)\n",
        "searcher_svm = GridSearchCV(LinearSVC(), [{'C':C_values}], scoring = 'roc_auc' )\n",
        "searcher_svm.fit(X_train, y_train)\n",
        "print('Best parameter is {:.3f}'.format(searcher_svm.best_params_['C']))"
      ],
      "execution_count": 11,
      "outputs": [
        {
          "output_type": "stream",
          "text": [
            "Best parameter is 5.560\n"
          ],
          "name": "stdout"
        }
      ]
    },
    {
      "cell_type": "markdown",
      "metadata": {
        "id": "ZYmQQAmFp3DL"
      },
      "source": [
        "На тестовой части посчитайте AUC-ROC, AUC-PR с точностью до 5 знаков. Постройте ROC и PR кривые, сравните их с ответами случайного классификатора. Заметим, что с помощью `sklearn` можно посчитать обе метрики двумя разными способами - в чем их различия? Сравните результаты. "
      ]
    },
    {
      "cell_type": "code",
      "metadata": {
        "id": "yMug1R9yp3DL",
        "colab": {
          "base_uri": "https://localhost:8080/",
          "height": 524
        },
        "outputId": "5e4d2e3e-109a-4cd4-bda4-f0bd8f90323a"
      },
      "source": [
        "model_svm = LinearSVC(C = searcher_svm.best_params_['C'])\n",
        "model_svm.fit(X_train, y_train)\n",
        "\n",
        "sigma = lambda x: 1/(1+np.exp(-x))\n",
        "y_pred_svm = sigma(model_svm.decision_function(X_test))\n",
        "# y_test_predict = model_svm.predict_proba(X_test)[:,1]\n",
        "\n",
        "print(f'ROC-AUC = {roc_auc_score(y_test, y_pred_svm):.5f}, PR-AUC = {average_precision_score(y_test, y_pred_svm):.5f}')\n",
        "\n",
        "roc = roc_curve(y_test, y_pred_svm)\n",
        "pr = precision_recall_curve(y_test, y_pred_svm)\n",
        "\n",
        "fig, ax = plt.subplots(1,2,figsize = (20,8))\n",
        "\n",
        "# metrics.plot_roc_curve(model_svm, X_test, y_test) \n",
        "ax[0].plot(roc[0], roc[1], label = 'Логистическая регрессия')\n",
        "ax[0].plot([0, 1], [0, 1], linestyle='--', label='Случайный классификатор')\n",
        "ax[0].set(title = 'AUC кривая',\n",
        "       xlabel = 'FPR',\n",
        "       ylabel = 'TPR')\n",
        "ax[0].legend(loc=\"lower right\")\n",
        "\n",
        "ax[1].plot(pr[1],pr[0], label = 'Логистическая регрессия')\n",
        "const_prec = np.mean(y_test)\n",
        "ax[1].plot([0, 1], [const_prec, const_prec], linestyle='--', label='Случайный классификатор')\n",
        "ax[1].set(title = 'PR кривая',\n",
        "       xlabel = 'Precision',\n",
        "       ylabel = 'Recall')\n",
        "ax[1].legend(loc=\"upper right\")\n",
        "plt.plot()"
      ],
      "execution_count": 12,
      "outputs": [
        {
          "output_type": "stream",
          "text": [
            "ROC-AUC = 0.84785, PR-AUC = 0.82817\n"
          ],
          "name": "stdout"
        },
        {
          "output_type": "execute_result",
          "data": {
            "text/plain": [
              "[]"
            ]
          },
          "metadata": {
            "tags": []
          },
          "execution_count": 12
        },
        {
          "output_type": "display_data",
          "data": {
            "image/png": "[encoded data removed]",
            "text/plain": [
              "<Figure size 1440x576 with 2 Axes>"
            ]
          },
          "metadata": {
            "tags": [],
            "needs_background": "light"
          }
        }
      ]
    },
    {
      "cell_type": "markdown",
      "metadata": {
        "id": "95lnoguGQJzF"
      },
      "source": [
        "Ну, случайный классификатор мы превзошли! Да и значения метрик неплохие. "
      ]
    },
    {
      "cell_type": "markdown",
      "metadata": {
        "id": "cjzSdsH2kBRJ"
      },
      "source": [
        "Посмотрим на разные способы вычисления:"
      ]
    },
    {
      "cell_type": "code",
      "metadata": {
        "colab": {
          "base_uri": "https://localhost:8080/"
        },
        "id": "RtwL0fGhj5iS",
        "outputId": "72bc5e9c-5a48-43a1-f20b-ad68a1825a78"
      },
      "source": [
        "print(f'ROC-AUC прямоугольниками = {roc_auc_score(y_test, y_pred_svm)}, ROC-AUC трапециями = {auc(roc[0], roc[1])}')\n",
        "print(f'PR-AUC прямоугольниками = {average_precision_score(y_test, y_pred_svm)}, PR-AUC трапециями = {auc(pr[1], pr[0])}')"
      ],
      "execution_count": 13,
      "outputs": [
        {
          "output_type": "stream",
          "text": [
            "ROC-AUC прямоугольниками = 0.8478466789734325, ROC-AUC трапециями = 0.8478466789734325\n",
            "PR-AUC прямоугольниками = 0.8281660777884629, PR-AUC трапециями = 0.8279029494709181\n"
          ],
          "name": "stdout"
        }
      ]
    },
    {
      "cell_type": "markdown",
      "metadata": {
        "id": "JzI5POTiuT90"
      },
      "source": [
        "Формально разница в способах заключается в том, что в первом случае мы используем \"специальный\" метод для вычисления метрики, а во втором - строим соответствующую кривую и считаем площадь под ней. По факту же, мы видим разницу для PR потому, что auc считает площаль трапециями, а метод \"на прямую\" - прямоугольниками. Для ROC же разницы между этими способами нет.  "
      ]
    },
    {
      "cell_type": "markdown",
      "metadata": {
        "id": "aJFmykUVp3DL"
      },
      "source": [
        "А теперь проделайте все то же самое для логистической регрессии (LR) — обучение, подбор параметра регуляризации (используйте L2-регуляризацию), вычисление всех метрик и построение кривых. Сравните результаты LR и SVM с точки зрения всех вычисленных критериев качества, объясните различия (если они есть)."
      ]
    },
    {
      "cell_type": "code",
      "metadata": {
        "colab": {
          "base_uri": "https://localhost:8080/"
        },
        "id": "khB5944kUw3m",
        "outputId": "1a3d6977-83f2-4497-eb01-eeefe5ca7a29"
      },
      "source": [
        "C_values = np.linspace(0.1, 10, 100)\n",
        "searcher_lr = GridSearchCV(LogisticRegression(), [{'C':C_values}], scoring = 'roc_auc' )\n",
        "searcher_lr.fit(X_train, y_train)\n",
        "print('Best parameter is {:.3f}'.format(searcher_lr.best_params_['C']))"
      ],
      "execution_count": 14,
      "outputs": [
        {
          "output_type": "stream",
          "text": [
            "Best parameter is 5.200\n"
          ],
          "name": "stdout"
        }
      ]
    },
    {
      "cell_type": "code",
      "metadata": {
        "id": "ps8Yhv4qp3DL",
        "colab": {
          "base_uri": "https://localhost:8080/",
          "height": 524
        },
        "outputId": "7767c69e-0384-4486-f4c3-43eb50738606"
      },
      "source": [
        "model_lr = LogisticRegression(C=searcher_lr.best_params_['C'])\n",
        "model_lr.fit(X_train, y_train)\n",
        "y_pred_lr = model_lr.predict_proba(X_test)[:,1]\n",
        "\n",
        "print(f'ROC-AUC = {roc_auc_score(y_test, y_pred_lr):.5f}, PR-AUC = {average_precision_score(y_test, y_pred_lr):.5f}')\n",
        "\n",
        "roc = roc_curve(y_test, y_pred_lr)\n",
        "pr = precision_recall_curve(y_test, y_pred_lr)\n",
        "\n",
        "fig, ax = plt.subplots(1,2,figsize = (20,8))\n",
        "\n",
        "ax[0].plot(roc[0], roc[1], label = 'Логистическая регрессия')\n",
        "ax[0].plot([0, 1], [0, 1], linestyle='--', label='Случайный классификатор')\n",
        "ax[0].set(title = 'AUC кривая',\n",
        "       xlabel = 'FPR',\n",
        "       ylabel = 'TPR')\n",
        "ax[0].legend(loc=\"lower right\")\n",
        "\n",
        "ax[1].plot(pr[1],pr[0], label = 'Логистическая регрессия')\n",
        "const_prec = np.mean(y_test)\n",
        "ax[1].plot([0, 1], [const_prec, const_prec], linestyle='--', label='Случайный классификатор')\n",
        "ax[1].set(title = 'PR кривая',\n",
        "       xlabel = 'Precision',\n",
        "       ylabel = 'Recall')\n",
        "ax[1].legend(loc=\"upper right\")\n",
        "plt.plot()"
      ],
      "execution_count": 15,
      "outputs": [
        {
          "output_type": "stream",
          "text": [
            "ROC-AUC = 0.84788, PR-AUC = 0.82938\n"
          ],
          "name": "stdout"
        },
        {
          "output_type": "execute_result",
          "data": {
            "text/plain": [
              "[]"
            ]
          },
          "metadata": {
            "tags": []
          },
          "execution_count": 15
        },
        {
          "output_type": "display_data",
          "data": {
            "image/png": "[encoded data removed]",
            "text/plain": [
              "<Figure size 1440x576 with 2 Axes>"
            ]
          },
          "metadata": {
            "tags": [],
            "needs_background": "light"
          }
        }
      ]
    },
    {
      "cell_type": "code",
      "metadata": {
        "colab": {
          "base_uri": "https://localhost:8080/"
        },
        "id": "IbsoInsivbcJ",
        "outputId": "b86c5d27-eecd-42b8-c488-82853d7183e0"
      },
      "source": [
        "print(f'ROC-AUC прямоугольниками = {roc_auc_score(y_test, y_pred_lr)}, ROC-AUC трапециями = {auc(roc[0], roc[1])}')\n",
        "print(f'PR-AUC прямоугольниками = {average_precision_score(y_test, y_pred_lr)}, PR-AUC трапециями = {auc(pr[1], pr[0])}')"
      ],
      "execution_count": 16,
      "outputs": [
        {
          "output_type": "stream",
          "text": [
            "ROC-AUC прямоугольниками = 0.8478760160749534, ROC-AUC трапециями = 0.8478760160749534\n",
            "PR-AUC прямоугольниками = 0.8293820493443467, PR-AUC трапециями = 0.8291185510482846\n"
          ],
          "name": "stdout"
        }
      ]
    },
    {
      "cell_type": "markdown",
      "metadata": {
        "id": "jUlo-euMvsrf"
      },
      "source": [
        "Разница между метриками аналогичная описанной выше для SVM. Давайте теперь сравним SVM и LR. Видим, что AUC ROC практически идентичны. AUC PR чуть ниже у SVM, но тоже незначительно.  "
      ]
    },
    {
      "cell_type": "markdown",
      "metadata": {
        "id": "BgDL_jI-p3DL"
      },
      "source": [
        "Логистическая регрессия приближает в каждой точке пространства объектов правдоподобие положительных ответов $p(y=+1|x)$. Попробуйте нарисовать это распределение на плоскости, не забудьте отметить на ней все объекты. Вам может помочь функция `plt.pcolor`."
      ]
    },
    {
      "cell_type": "code",
      "metadata": {
        "id": "UKfN5aGwp3DL"
      },
      "source": [
        "n = 1000\n",
        "X, y = make_classification(\n",
        "    n_samples=n, n_features=2, n_informative=2, n_redundant=0,\n",
        "    random_state=42)\n",
        "\n",
        "model_LR = LogisticRegression(C=searcher_lr.best_params_['C'])\n",
        "model_LR.fit(X, y)"
      ],
      "execution_count": 17,
      "outputs": []
    },
    {
      "cell_type": "code",
      "metadata": {
        "id": "6rqqfNr73UoY",
        "colab": {
          "base_uri": "https://localhost:8080/",
          "height": 404
        },
        "outputId": "ea750fcc-7c05-4ac7-e9c8-c29b32d2b7fa"
      },
      "source": [
        "X1 = np.tile(np.sort(X[:,0]), n)\n",
        "X2 = np.repeat(np.sort(X[:,1]), n) \n",
        "y = model_LR.predict_proba(np.column_stack((X1,X2)))[:,1]\n",
        "\n",
        "fig,ax=plt.subplots(figsize = (10,6))\n",
        "\n",
        "ax.pcolor(X1.reshape(n,n),  X2.reshape(n,n), y.reshape(n,n), cmap='RdBu')\n",
        "ax.set(title = 'Разделяющая прямая',\n",
        "       xlabel = 'X1',\n",
        "       ylabel = 'X2')\n",
        "ax.scatter(X[:,0], X[:,1], c='blue')\n",
        "plt.show()"
      ],
      "execution_count": 40,
      "outputs": [
        {
          "output_type": "display_data",
          "data": {
            "image/png": "[encoded data removed]",
            "text/plain": [
              "<Figure size 720x432 with 1 Axes>"
            ]
          },
          "metadata": {
            "tags": [],
            "needs_background": "light"
          }
        }
      ]
    },
    {
      "cell_type": "markdown",
      "metadata": {
        "id": "WHXainQkp3DL"
      },
      "source": [
        "__Задание 2.__ Калибровка вероятностей.\n",
        "\n",
        "__(1 балл)__\n",
        "\n",
        "Перейдём к оценке качества выдаваемых алгоритмами вероятностей. Начнём с калибровочных кривых. \n",
        "\n",
        "Допустим, алгоритм возвращает некоторые числа от нуля до единицы. Хорошо ли они оценивают вероятность? Для этого разобьем отрезок $[0, 1]$ на несколько маленьких отрезков одинаковой длины. Рассмотрим $i$-й отрезок с границами $[a_i, b_i]$ и предсказания $p_1, p_2, \\dots, p_k$, которые попали в него. Пусть им соответствуют истинные ответы $y_1, y_2, \\dots, y_k$. Если алгоритм выдает корректные вероятности, то среди этих истинных ответов должно быть примерно $(a_i + b_i) / 2$ единиц. Иными словами, если нарисовать кривую, у которой по оси X отложены центры отрезков, а по оси Y — доли единичных ответов этих в отрезках, то она должна оказаться диагональной. Ниже приведена функция, которая должна рисовать такие кривые. В ней допущено две ошибки — найдите и исправьте их."
      ]
    },
    {
      "cell_type": "code",
      "metadata": {
        "id": "a11elOOJp3DL"
      },
      "source": [
        "def plot_calibration_curve(y_test, preds, name):\n",
        "    bin_middle_points = []\n",
        "    bin_real_ratios = []\n",
        "    n_bins = 10\n",
        "    for i in range(n_bins):\n",
        "        l = 1.0 / n_bins * i\n",
        "        r = 1.0 / n_bins * (i + 1)\n",
        "        bin_middle_points.append((l + r) / 2) \n",
        "        bin_real_ratios.append(np.mean(y_test[(preds >= l) & (preds < r)] == 1)) \n",
        "    plt.figure(figsize=(6,6))\n",
        "    plt.plot(bin_middle_points, bin_real_ratios, label = name + ' классификатор')\n",
        "    plt.plot([0, 1], [0, 1], linestyle='--', label='Идеальная калибровка')\n",
        "    plt.title('Калибровка ' + name + ' модели')\n",
        "    plt.xlabel('Бины')\n",
        "    plt.ylabel('Вероятности')\n",
        "    plt.legend(loc=\"lower right\")\n",
        "    plt.ylim([-0.05, 1.05])\n",
        "    plt.grid()"
      ],
      "execution_count": 42,
      "outputs": []
    },
    {
      "cell_type": "markdown",
      "metadata": {
        "id": "7CeJ2Nqdp3DL"
      },
      "source": [
        "Сгенерируйте синтетический датасет аналогично использованному в самом первом задании — он будет выступать в качестве тестовой выборки. Постройте калибровочные кривые на тестовой части для логистической регрессии и метода опорных векторов (не забудьте перевести его предсказания в $[0;1]$). Изучите распределение ответов классификаторов (постройте гистограммы с помощью `plt.hist`). Чем они различаются? Чем вы можете объяснить это?"
      ]
    },
    {
      "cell_type": "markdown",
      "metadata": {
        "id": "NFgd0-pY_Z8T"
      },
      "source": [
        "Не уверен, что правильно понял задание. Мы в самом начале уже сгенерировали датасет и разделили лиго на обучающую и тестовую выборку. Генерировать еще раз на том же сиде - даст такой же датасет. Генерировать на другом сиде - нерелевантную выборку к построенной модели (мы обучались на совсем других данных). Кажется, надо взять уже существующую тестовую выборку из предыдущего пункта и построить на ней. Так и сделаем. "
      ]
    },
    {
      "cell_type": "markdown",
      "metadata": {
        "id": "dUKeDEqBYgTz"
      },
      "source": [
        "Посмотрим на ответы моделей (не вероятности):"
      ]
    },
    {
      "cell_type": "code",
      "metadata": {
        "colab": {
          "base_uri": "https://localhost:8080/",
          "height": 530
        },
        "id": "K3_HFSWEAEii",
        "outputId": "c66a9a95-2785-436e-d0e9-c4eba2b506ad"
      },
      "source": [
        "fig,ax = plt.subplots(1,2,figsize = (16,8))\n",
        "\n",
        "ax[0].hist(model_lr.decision_function(X_test), 20, alpha=0.7, rwidth=0.85)\n",
        "ax[0].set(title = 'Гистограмма ответов LR',\n",
        "       xlabel = 'Бины',\n",
        "       ylabel = 'Количество')\n",
        "ax[1].hist(model_svm.decision_function(X_test),20, alpha=0.7, rwidth=0.85)\n",
        "ax[1].set(title = 'Гистограмма ответов SVM',\n",
        "       xlabel = 'Бины',\n",
        "       ylabel = 'Количество')\n",
        "\n",
        "plt.plot()"
      ],
      "execution_count": 43,
      "outputs": [
        {
          "output_type": "execute_result",
          "data": {
            "text/plain": [
              "[]"
            ]
          },
          "metadata": {
            "tags": []
          },
          "execution_count": 43
        },
        {
          "output_type": "display_data",
          "data": {
            "image/png": "[encoded data removed]",
            "text/plain": [
              "<Figure size 1152x576 with 2 Axes>"
            ]
          },
          "metadata": {
            "tags": [],
            "needs_background": "light"
          }
        }
      ]
    },
    {
      "cell_type": "markdown",
      "metadata": {
        "id": "naUGEZBmYm5j"
      },
      "source": [
        "Видно, что они очень похожи. Вот только ответы SVM значительно ближе к 0 (см. ось X). Построем для них калибровочные кривые:"
      ]
    },
    {
      "cell_type": "code",
      "metadata": {
        "id": "5OWAaXfQp3DL",
        "colab": {
          "base_uri": "https://localhost:8080/",
          "height": 791
        },
        "outputId": "bf868c0d-1d92-45fd-d20a-a9af3f98e3e7"
      },
      "source": [
        "plot_calibration_curve(y_test, y_pred_lr, 'logit')\n",
        "plot_calibration_curve(y_test, y_pred_svm, 'SVM')"
      ],
      "execution_count": 44,
      "outputs": [
        {
          "output_type": "display_data",
          "data": {
            "image/png": "[encoded data removed]",
            "text/plain": [
              "<Figure size 432x432 with 1 Axes>"
            ]
          },
          "metadata": {
            "tags": [],
            "needs_background": "light"
          }
        },
        {
          "output_type": "display_data",
          "data": {
            "image/png": "[encoded data removed]",
            "text/plain": [
              "<Figure size 432x432 with 1 Axes>"
            ]
          },
          "metadata": {
            "tags": [],
            "needs_background": "light"
          }
        }
      ]
    },
    {
      "cell_type": "markdown",
      "metadata": {
        "id": "LlNRX7QdZjTj"
      },
      "source": [
        "Видно, что SVM недопредсказывает вероятность 0 и перепредсказывает вероятность 1. Т.е. среди тех, кому он дает вероятость 0.3, положительных классов слишком мало, а среди 0.7 - слишком много. При этом в середине (0.5) баланс соблюдается. Это связано с особенностью SVM, он хорошо разделяет объекты, но (вспомним L(M) в сравнении с логистической регрессией) не очень хорошо ранжирует их по отступу. "
      ]
    },
    {
      "cell_type": "markdown",
      "metadata": {
        "id": "GsNKy4slp3DM"
      },
      "source": [
        "Воспользуйтесь `CalibratedClassifierCV` из `sklearn` для калибровки вероятностей метода опорных векторов на обучении и постройте с его помощью предсказания для тестовой выборки. Нарисуйте для них калибровочную кривую. Улучшилась ли она?"
      ]
    },
    {
      "cell_type": "code",
      "metadata": {
        "id": "UxNMWtF6p3DM",
        "colab": {
          "base_uri": "https://localhost:8080/",
          "height": 404
        },
        "outputId": "af2c3408-57a9-4c21-a15f-b465d5b16280"
      },
      "source": [
        "from sklearn.calibration import CalibratedClassifierCV\n",
        "\n",
        "model_svm = LinearSVC(C = searcher_svm.best_params_['C'])\n",
        "cal = CalibratedClassifierCV(base_estimator = model_svm, method = 'sigmoid')\n",
        "model_svm_cal = cal.fit(X_train, y_train)\n",
        "\n",
        "plot_calibration_curve(y_test, model_svm_cal.predict_proba(X_test)[:,1], 'SVM_calibrated')"
      ],
      "execution_count": 45,
      "outputs": [
        {
          "output_type": "display_data",
          "data": {
            "image/png": "[encoded data removed]",
            "text/plain": [
              "<Figure size 432x432 with 1 Axes>"
            ]
          },
          "metadata": {
            "tags": [],
            "needs_background": "light"
          }
        }
      ]
    },
    {
      "cell_type": "markdown",
      "metadata": {
        "id": "eQ7S1Zq5dd5w"
      },
      "source": [
        "Другое дело! Стало лучше и очень похоже на логистическую. "
      ]
    },
    {
      "cell_type": "markdown",
      "metadata": {
        "id": "iYJYfwuNp3DM"
      },
      "source": [
        "# Часть 1. Работа с переменными."
      ]
    },
    {
      "cell_type": "code",
      "metadata": {
        "colab": {
          "base_uri": "https://localhost:8080/"
        },
        "id": "koefUoYj1rHm",
        "outputId": "7cf841a9-ab71-4162-caeb-e58cd90ed3ba"
      },
      "source": [
        "!pip install category_encoders\n",
        "from category_encoders import TargetEncoder\n",
        "from sklearn.pipeline import Pipeline\n",
        "from sklearn.preprocessing import OrdinalEncoder, StandardScaler, OneHotEncoder\n",
        "from sklearn.compose import ColumnTransformer"
      ],
      "execution_count": 46,
      "outputs": [
        {
          "output_type": "stream",
          "text": [
            "Collecting category_encoders\n",
            "\u001b[?25l  Downloading https://files.pythonhosted.org/packages/44/57/fcef41c248701ee62e8325026b90c432adea35555cbc870aff9cfba23727/category_encoders-2.2.2-py2.py3-none-any.whl (80kB)\n",
            "\r\u001b[K     |████                            | 10kB 13.7MB/s eta 0:00:01\r\u001b[K     |████████▏                       | 20kB 19.5MB/s eta 0:00:01\r\u001b[K     |████████████▏                   | 30kB 18.8MB/s eta 0:00:01\r\u001b[K     |████████████████▎               | 40kB 14.4MB/s eta 0:00:01\r\u001b[K     |████████████████████▎           | 51kB 16.1MB/s eta 0:00:01\r\u001b[K     |████████████████████████▍       | 61kB 17.9MB/s eta 0:00:01\r\u001b[K     |████████████████████████████▍   | 71kB 14.4MB/s eta 0:00:01\r\u001b[K     |████████████████████████████████| 81kB 5.0MB/s \n",
            "\u001b[?25hRequirement already satisfied: numpy>=1.14.0 in /usr/local/lib/python3.6/dist-packages (from category_encoders) (1.18.5)\n",
            "Requirement already satisfied: patsy>=0.5.1 in /usr/local/lib/python3.6/dist-packages (from category_encoders) (0.5.1)\n",
            "Requirement already satisfied: scipy>=1.0.0 in /usr/local/lib/python3.6/dist-packages (from category_encoders) (1.4.1)\n",
            "Requirement already satisfied: scikit-learn>=0.20.0 in /usr/local/lib/python3.6/dist-packages (from category_encoders) (0.22.2.post1)\n",
            "Requirement already satisfied: statsmodels>=0.9.0 in /usr/local/lib/python3.6/dist-packages (from category_encoders) (0.10.2)\n",
            "Requirement already satisfied: pandas>=0.21.1 in /usr/local/lib/python3.6/dist-packages (from category_encoders) (1.1.4)\n",
            "Requirement already satisfied: six in /usr/local/lib/python3.6/dist-packages (from patsy>=0.5.1->category_encoders) (1.15.0)\n",
            "Requirement already satisfied: joblib>=0.11 in /usr/local/lib/python3.6/dist-packages (from scikit-learn>=0.20.0->category_encoders) (0.17.0)\n",
            "Requirement already satisfied: pytz>=2017.2 in /usr/local/lib/python3.6/dist-packages (from pandas>=0.21.1->category_encoders) (2018.9)\n",
            "Requirement already satisfied: python-dateutil>=2.7.3 in /usr/local/lib/python3.6/dist-packages (from pandas>=0.21.1->category_encoders) (2.8.1)\n",
            "Installing collected packages: category-encoders\n",
            "Successfully installed category-encoders-2.2.2\n"
          ],
          "name": "stdout"
        }
      ]
    },
    {
      "cell_type": "markdown",
      "metadata": {
        "id": "TBFhLH9jp3DM"
      },
      "source": [
        "В этой части мы научимся обрабатывать категориальные переменные, так как закодировать их в виде чисел недостаточно (это задаёт некоторый порядок, которого на категориальных переменных может и не быть). Существует два основных способа обработки категориальных значений:\n",
        "- One-hot-кодирование\n",
        "- Счётчики (CTR, mean-target кодирование, ...) — каждый категориальный признак заменяется на среднее значение целевой переменной по всем объектам, имеющим одинаковое значение в этом признаке.\n",
        "\n",
        "Начнём с one-hot-кодирования. Допустим наш категориальный признак $f_j(x)$ принимает значения из множества $C=\\{c_1, \\dots, c_m\\}$. Заменим его на $m$ бинарных признаков $b_1(x), \\dots, b_m(x)$, каждый из которых является индикатором одного из возможных категориальных значений:\n",
        "$$\n",
        "b_i(x) = [f_j(x) = c_i]\n",
        "$$"
      ]
    },
    {
      "cell_type": "markdown",
      "metadata": {
        "id": "JSPbu5pWp3DM"
      },
      "source": [
        "__Подготовка данных.__\n",
        "\n",
        "Загрузим данные [UCI Bank Marketing Dataset](https://archive.ics.uci.edu/ml/datasets/bank+marketing). Этот датасет содержит информацию о банковском телефонном маркетинге, объектом в нем является телефонный звонок потенциальному клиенту с предложением некоторой услуги (утверждается, что это краткосрочный депозит), целевой переменной - ответ клиента (согласился ли он открыть депозит?). В качестве признакового описания используются характеристики клиента (образование, брак и т.д.), данные о звонке и различные экономические индикаторы - более подробная информация представлена в файле `bank-additional-names.txt`."
      ]
    },
    {
      "cell_type": "code",
      "metadata": {
        "id": "iXnr59TOp3DM",
        "colab": {
          "base_uri": "https://localhost:8080/"
        },
        "outputId": "a09c6fc7-fcb7-4d44-e921-e1a5f4556b37"
      },
      "source": [
        "!wget https://archive.ics.uci.edu/ml/machine-learning-databases/00222/bank-additional.zip\n",
        "!unzip bank-additional.zip\n",
        "df = pd.read_csv('bank-additional/bank-additional-full.csv', sep=';')"
      ],
      "execution_count": 47,
      "outputs": [
        {
          "output_type": "stream",
          "text": [
            "--2020-12-03 19:11:10--  https://archive.ics.uci.edu/ml/machine-learning-databases/00222/bank-additional.zip\n",
            "Resolving archive.ics.uci.edu (archive.ics.uci.edu)... 128.195.10.252\n",
            "Connecting to archive.ics.uci.edu (archive.ics.uci.edu)|128.195.10.252|:443... connected.\n",
            "HTTP request sent, awaiting response... 200 OK\n",
            "Length: 444572 (434K) [application/x-httpd-php]\n",
            "Saving to: ‘bank-additional.zip’\n",
            "\n",
            "bank-additional.zip 100%[===================>] 434.15K   575KB/s    in 0.8s    \n",
            "\n",
            "2020-12-03 19:11:12 (575 KB/s) - ‘bank-additional.zip’ saved [444572/444572]\n",
            "\n",
            "Archive:  bank-additional.zip\n",
            "   creating: bank-additional/\n",
            "  inflating: bank-additional/.DS_Store  \n",
            "   creating: __MACOSX/\n",
            "   creating: __MACOSX/bank-additional/\n",
            "  inflating: __MACOSX/bank-additional/._.DS_Store  \n",
            "  inflating: bank-additional/.Rhistory  \n",
            "  inflating: bank-additional/bank-additional-full.csv  \n",
            "  inflating: bank-additional/bank-additional-names.txt  \n",
            "  inflating: bank-additional/bank-additional.csv  \n",
            "  inflating: __MACOSX/._bank-additional  \n"
          ],
          "name": "stdout"
        }
      ]
    },
    {
      "cell_type": "markdown",
      "metadata": {
        "id": "hhGIWpByp3DO"
      },
      "source": [
        "__Задание 3 (0.5 балла).__ Разделите выборку на обучающую и тестовую в соотношении 3:1. Зафиксируйте `random_state=777`, также используйте `stratify`. Один из столбцов в данных не несет информации для решения задачи — какой? Отбросьте его. \n",
        "\n"
      ]
    },
    {
      "cell_type": "markdown",
      "metadata": {
        "id": "TX4aM9vHjdW6"
      },
      "source": [
        "Удалим duration, выдержка из документации: \"Important note:  this attribute highly affects the output target (e.g., if duration=0 then y=\"no\"). Yet, the duration is not known before a call is performed. Also, after the end of the call y is obviously known. Thus, this input should only be included for benchmark purposes and should be discarded if the intention is to have a realistic predictive model\""
      ]
    },
    {
      "cell_type": "code",
      "metadata": {
        "id": "U1L9nEvFp3DO"
      },
      "source": [
        "X_train, X_test, y_train, y_test = train_test_split(df.drop(columns=['y','duration']),\n",
        "                                                    (df['y']=='yes').astype('int'), \n",
        "                                                    random_state = 777, stratify = df['y'])"
      ],
      "execution_count": 48,
      "outputs": []
    },
    {
      "cell_type": "markdown",
      "metadata": {
        "id": "UX0XScKBp3DO"
      },
      "source": [
        "Закодируйте категориальные признаки с помощью `OrdinalEncoder`. Посчитайте качество (в этом задании будем работать c `AUC-PR`) при применении логистической регрессии. Замерьте время, потребовавшееся на обучение модели (с учетом кодирования признаков).\n",
        "\n",
        "__Вопрос__: почему в данном задании мы выбрали метрикой именно `AUC-PR`, а не, к примеру, `AUC-ROC`?\n",
        "\n"
      ]
    },
    {
      "cell_type": "code",
      "metadata": {
        "colab": {
          "base_uri": "https://localhost:8080/"
        },
        "id": "Xa6g9e68mQzw",
        "outputId": "501825eb-4979-4471-ed02-df182bb798ba"
      },
      "source": [
        "df['y'].value_counts()"
      ],
      "execution_count": 49,
      "outputs": [
        {
          "output_type": "execute_result",
          "data": {
            "text/plain": [
              "no     36548\n",
              "yes     4640\n",
              "Name: y, dtype: int64"
            ]
          },
          "metadata": {
            "tags": []
          },
          "execution_count": 49
        }
      ]
    },
    {
      "cell_type": "markdown",
      "metadata": {
        "id": "QqoGqC__o4Yu"
      },
      "source": [
        "__Ваш ответ__: как мы видим, классы не сбалансированы. Поэтому стоит использовать PR, а не AUC."
      ]
    },
    {
      "cell_type": "code",
      "metadata": {
        "id": "PNsst12Jp3DO"
      },
      "source": [
        "categorical = ['job','marital','education','default','housing','loan','contact','month','day_of_week','poutcome']\n",
        "numeric_features = ['age', 'campaign','pdays','previous','emp.var.rate','cons.price.idx','cons.conf.idx','euribor3m','nr.employed']\n",
        "\n",
        "column_transformer_OE = ColumnTransformer([\n",
        "    ('ohe', OrdinalEncoder(), categorical),\n",
        "    ('scaling', StandardScaler(), numeric_features)\n",
        "])\n",
        "\n",
        "OE_pipeline = Pipeline([\n",
        "    ('transformer', column_transformer_OE),\n",
        "    ('regression', LogisticRegression())\n",
        "])"
      ],
      "execution_count": 50,
      "outputs": []
    },
    {
      "cell_type": "code",
      "metadata": {
        "colab": {
          "base_uri": "https://localhost:8080/"
        },
        "id": "shXuNNtcl_b1",
        "outputId": "51af6a08-117e-4c7b-cec7-c203f530e695"
      },
      "source": [
        "%%time\n",
        "model_lr = OE_pipeline.fit(X_train, y_train)"
      ],
      "execution_count": 51,
      "outputs": [
        {
          "output_type": "stream",
          "text": [
            "CPU times: user 850 ms, sys: 393 ms, total: 1.24 s\n",
            "Wall time: 689 ms\n"
          ],
          "name": "stdout"
        }
      ]
    },
    {
      "cell_type": "code",
      "metadata": {
        "colab": {
          "base_uri": "https://localhost:8080/"
        },
        "id": "y5iHPZeynydC",
        "outputId": "0801afca-82d9-400f-ef22-92d4bf544d20"
      },
      "source": [
        "print(f'PR-AUC = {average_precision_score(y_test, model_lr.predict_proba(X_test)[:,1]):.5f}')"
      ],
      "execution_count": 52,
      "outputs": [
        {
          "output_type": "stream",
          "text": [
            "PR-AUC = 0.44229\n"
          ],
          "name": "stdout"
        }
      ]
    },
    {
      "cell_type": "markdown",
      "metadata": {
        "id": "TNSVnJudp3DO"
      },
      "source": [
        "__Задание 4 (0.5 балла).__ Закодируйте все категориальные признаки с помощью one-hot-кодирования. Обучите логистическую регрессию и посмотрите, как изменилось качество модели (с тем, что было до кодирования). Измерьте время, потребовавшееся на кодирование категориальных признаков и обучение модели.\n",
        "\n"
      ]
    },
    {
      "cell_type": "code",
      "metadata": {
        "id": "GuaXCO7Np3DO"
      },
      "source": [
        "column_transformer_OHE = ColumnTransformer([\n",
        "    ('ohe', OneHotEncoder(), categorical),\n",
        "    ('scaling', StandardScaler(), numeric_features)\n",
        "])\n",
        "\n",
        "OHE_pipeline = Pipeline([\n",
        "    ('transformer', column_transformer_OHE),\n",
        "    ('regression', LogisticRegression())\n",
        "])"
      ],
      "execution_count": 53,
      "outputs": []
    },
    {
      "cell_type": "code",
      "metadata": {
        "colab": {
          "base_uri": "https://localhost:8080/"
        },
        "id": "w8hgmkd6rCD8",
        "outputId": "e2d30e82-19b9-441a-cff6-3c5eb6fe900d"
      },
      "source": [
        "%%time\n",
        "model_lr = OHE_pipeline.fit(X_train, y_train)"
      ],
      "execution_count": 54,
      "outputs": [
        {
          "output_type": "stream",
          "text": [
            "CPU times: user 1.37 s, sys: 395 ms, total: 1.76 s\n",
            "Wall time: 963 ms\n"
          ],
          "name": "stdout"
        }
      ]
    },
    {
      "cell_type": "code",
      "metadata": {
        "colab": {
          "base_uri": "https://localhost:8080/"
        },
        "id": "Z-S3sEZjrDu_",
        "outputId": "b2d496de-f527-4326-cfa0-2428c995b166"
      },
      "source": [
        "print(f'PR-AUC = {average_precision_score(y_test, model_lr.predict_proba(X_test)[:,1]):.5f}')"
      ],
      "execution_count": 55,
      "outputs": [
        {
          "output_type": "stream",
          "text": [
            "PR-AUC = 0.44951\n"
          ],
          "name": "stdout"
        }
      ]
    },
    {
      "cell_type": "markdown",
      "metadata": {
        "id": "Ub1tIk80rW1O"
      },
      "source": [
        "Стало немного лучше)"
      ]
    },
    {
      "cell_type": "markdown",
      "metadata": {
        "id": "8NI4_uA1p3DO"
      },
      "source": [
        "Как можно было заменить, one-hot-кодирование может сильно увеличивать количество признаков в датасете, что сказывается на памяти, особенно, если некоторый признак имеет большое количество значений. Эту проблему решает другой способ кодирования категориальных признаков — счётчики. Основная идея в том, что нам важны не сами категории, а значения целевой переменной, которые имеют объекты этой категории. Каждый категориальный признак мы заменим средним значением целевой переменной по всем объектам этой же категории:\n",
        "$$\n",
        "g_j(x, X) = \\frac{\\sum_{i=1}^{l} [f_j(x) = f_j(x_i)][y_i = +1]}{\\sum_{i=1}^{l} [f_j(x) = f_j(x_i)]}\n",
        "$$\n",
        "\n",
        "__Задание 5 (1 балл).__ Закодируйте категориальные переменные с помощью счётчиков (ровно так, как описано выше без каких-либо хитростей). Можете воспользоваться [библиотекой](https://contrib.scikit-learn.org/category_encoders/targetencoder.html) с четвертого семинара или написать класс сами. Обучите логистическую регрессию и посмотрите на качество модели на тестовом множестве. Сравните время обучения с предыдущими экспериментами (с учетом кодирования признаков). Заметили ли вы что-то интересное?\n"
      ]
    },
    {
      "cell_type": "code",
      "metadata": {
        "id": "1m_sdeVpp3DO"
      },
      "source": [
        "column_transformer_MTE = ColumnTransformer([\n",
        "    ('ohe', TargetEncoder(), categorical),\n",
        "    ('scaling', StandardScaler(), numeric_features)\n",
        "])\n",
        "\n",
        "MTE_pipeline = Pipeline([\n",
        "    ('transformer', column_transformer_MTE),\n",
        "    ('regression', LogisticRegression())\n",
        "])"
      ],
      "execution_count": 56,
      "outputs": []
    },
    {
      "cell_type": "code",
      "metadata": {
        "colab": {
          "base_uri": "https://localhost:8080/"
        },
        "id": "GoB16DawuBbz",
        "outputId": "7011ebe7-51c6-454b-b6d4-934e667266ed"
      },
      "source": [
        "%%time\n",
        "model_lr = MTE_pipeline.fit(X_train, y_train)"
      ],
      "execution_count": 57,
      "outputs": [
        {
          "output_type": "stream",
          "text": [
            "CPU times: user 1.07 s, sys: 388 ms, total: 1.46 s\n",
            "Wall time: 997 ms\n"
          ],
          "name": "stdout"
        }
      ]
    },
    {
      "cell_type": "code",
      "metadata": {
        "colab": {
          "base_uri": "https://localhost:8080/"
        },
        "id": "hCt0YYHJuGFk",
        "outputId": "d00757eb-97f9-4b70-d83d-1ed60d85a18d"
      },
      "source": [
        "print(f'PR-AUC = {average_precision_score(y_test, model_lr.predict_proba(X_test)[:,1]):.5f}')"
      ],
      "execution_count": null,
      "outputs": [
        {
          "output_type": "stream",
          "text": [
            "PR-AUC = 0.44257\n"
          ],
          "name": "stdout"
        }
      ]
    },
    {
      "cell_type": "markdown",
      "metadata": {
        "id": "xDZM9E-NBTMh"
      },
      "source": [
        "Заметим, что OE в кодировке и обучении занимает значительно меньше времени, чем OHE и MTE: он самый простой, дает меньше признаков, чем OHE (влияет на скорость обучения) и кодирует простым алгоритмом (влияет на скорость кодирования). \n",
        "\n",
        "В то же время видно, что OE дает такое же качество как MTE, а OHE превосходит их обоих. OHE>OE - довольно предсказуемо, а вот остальное - странно. "
      ]
    },
    {
      "cell_type": "markdown",
      "metadata": {
        "id": "_m4wDloSp3DO"
      },
      "source": [
        "А теперь ответьте на следующий вопрос: что будет, если некоторая категория встречается в выборке всего несколько раз? По этой причине производится сглаживание счётчиков. Например, на практике хорошие результаты показывает использование сглаживания средним по всей выборке:\n",
        "$$\n",
        "g_j(x, X) = \\frac{\\sum_{i=1}^{\\ell} [f_j(x) = f_j(x_i)][y_i = +1] + C \\times global\\_mean}{\\sum_{i=1}^{\\ell} [f_j(x) = f_j(x_i)] + C}\n",
        "$$\n",
        "где $global\\_mean$ — доля объектов положительного класса в выборке, $C$ — параметр, определяющий степень сглаживания. Основная идея в том, что мы \"разбавляем\" среднее значение по некоторой категории глобальным средним значением. И тем меньше, чем большее количество объектов этой категории встречается в выборке. \n",
        "\n",
        "Однако для сглаживания вместо среднего значения целевой переменной можно использовать любое другое значение от 0 до 1 (этот параметр иногда называют $prior$). Можно сделать несколько признаков с разными значениями параметра. На практике в задачах бинарной классификации полезными бывают даже отрицательные значения!\n"
      ]
    },
    {
      "cell_type": "markdown",
      "metadata": {
        "id": "30uYRxl6vapm"
      },
      "source": [
        "Ответ на вопрос обсуждаля на лекции. При MTE без сглаживания мы просто переписываем ответ в редкую категорию, это не очень честно. Как только есть подозрение на редкие классы/несбалансированность стоит использовать сглаживание. "
      ]
    },
    {
      "cell_type": "markdown",
      "metadata": {
        "id": "hU0QCIxIp3DO"
      },
      "source": [
        "__Задание 6 (1 балл).__ Добавьте сглаживание, описанное выше и повторите эксперименты."
      ]
    },
    {
      "cell_type": "code",
      "metadata": {
        "id": "E8hH0VHGp3DO"
      },
      "source": [
        "# !pip install category_encoders\n",
        "from category_encoders import TargetEncoder\n",
        "column_transformer_MTE_sm = ColumnTransformer([\n",
        "    ('ohe', TargetEncoder(smoothing=0.1), categorical),\n",
        "    ('scaling', StandardScaler(), numeric_features)\n",
        "])\n",
        "\n",
        "MTE_sm_pipeline = Pipeline([\n",
        "    ('transformer', column_transformer_MTE_sm),\n",
        "    ('regression', LogisticRegression())\n",
        "])"
      ],
      "execution_count": 58,
      "outputs": []
    },
    {
      "cell_type": "code",
      "metadata": {
        "colab": {
          "base_uri": "https://localhost:8080/"
        },
        "id": "MltV3AD7vqoA",
        "outputId": "c808a805-b2c5-4976-9c99-98f655ae9a66"
      },
      "source": [
        "%%time\n",
        "model_lr = MTE_sm_pipeline.fit(X_train, y_train)"
      ],
      "execution_count": 59,
      "outputs": [
        {
          "output_type": "stream",
          "text": [
            "CPU times: user 1.08 s, sys: 343 ms, total: 1.43 s\n",
            "Wall time: 915 ms\n"
          ],
          "name": "stdout"
        }
      ]
    },
    {
      "cell_type": "code",
      "metadata": {
        "colab": {
          "base_uri": "https://localhost:8080/"
        },
        "id": "QPBxBo_AvumW",
        "outputId": "a87104d0-ea98-4865-ab7b-cdeb64de32b0"
      },
      "source": [
        "print(f'PR-AUC = {average_precision_score(y_test, model_lr.predict_proba(X_test)[:,1]):.5f}')"
      ],
      "execution_count": 60,
      "outputs": [
        {
          "output_type": "stream",
          "text": [
            "PR-AUC = 0.44249\n"
          ],
          "name": "stdout"
        }
      ]
    },
    {
      "cell_type": "markdown",
      "metadata": {
        "id": "P3rt78SpCYW_"
      },
      "source": [
        "Получили что-то на уровне MTE, чуть быстрее (странно), чуть лучше (логично, чуть меньше переобучились). Они очень похожи. "
      ]
    },
    {
      "cell_type": "markdown",
      "metadata": {
        "id": "UxMSFYArp3DO"
      },
      "source": [
        "__Замечание.__ Усложнение методов вычисления счётчиков не делают результаты модели гарантированно лучше. Особенно с учётом того, что логистическая регрессия не такая сложная модель, чтобы переобучаться. Поэтому вы необязательно должны были получать на каждом шаге всё лучшие и лучшие результаты (но необходимые результаты у вас должны были получиться).\n",
        "\n",
        "Как вы должны были заметить, счётчики являются хорошей альтернативой one-hot-кодированию. Напишите, какие плюсы и минусы использования счётчиков по сравнению с one-hot-кодированием вы заметили.\n",
        "\n",
        "__Ответ:__ MTE строится совсем по другому принципу по сравнению с OHE. OHE совсем не умеет во взаимосвязь между категориями и сложные связи между признаками - для MTE это не проблема. MTE к тому же создает меньше переменных, что влияет ускоряет обучение. Однако MTE требует больше времени на создание переменных (более сложный алгоритм). В то же время, MTE искусственен и может страдать от эндогенности: нужны костыли (типа априорности или шума), чтобы помешать ему переобучиться.  Вдобавок к этому MTE может легче переобучиться - запомнить структуру обучающего сэмпла (вспомним пример с чартами).      "
      ]
    },
    {
      "cell_type": "markdown",
      "metadata": {
        "id": "F0edCShGp3DO"
      },
      "source": [
        "# Часть 2. Отбор признаков"
      ]
    },
    {
      "cell_type": "markdown",
      "metadata": {
        "id": "QvWPYubQp3DO"
      },
      "source": [
        "Важной частью процесса построения модели является отбор признаков. На практике многие признаки оказывают малое влияние на модель (при этом их расчёт занимает время) или даже негативно сказываются на качестве модели. Попробуем несколько подходов отбора признаков, оценим, как они влияют на качество модели и сколько времени занимают.\n",
        "\n",
        "Обратимся к тому же датасету про банковский телефонный маркетинг."
      ]
    },
    {
      "cell_type": "code",
      "metadata": {
        "id": "2mggRVkpp3DO"
      },
      "source": [
        "df = pd.read_csv('bank-additional/bank-additional-full.csv', sep=';')\n",
        "\n",
        "X = df.drop(columns=['duration', 'y'])\n",
        "y = (df.y == 'yes')\n",
        "\n",
        "X_train, X_test, y_train, y_test = train_test_split(X, y, test_size=0.2, random_state=777, stratify=y)"
      ],
      "execution_count": 61,
      "outputs": []
    },
    {
      "cell_type": "markdown",
      "metadata": {
        "id": "6KNRLcXhp3DO"
      },
      "source": [
        "Как вы помните, в данных много категориальных признаков (сейчас давайте интерпретировать возраст как числовой). Давайте закодируем их с помощью one-hot кодирования. Исходные колонки с категориальными признаками можно удалить. Сколько признаков мы получили?"
      ]
    },
    {
      "cell_type": "markdown",
      "metadata": {
        "id": "_5sIkeuJ9FVp"
      },
      "source": [
        "Будем пока делать без масштабирования. "
      ]
    },
    {
      "cell_type": "code",
      "metadata": {
        "id": "vmyWtksx3WjM"
      },
      "source": [
        "column_transformer_OHE = ColumnTransformer([\n",
        "    ('ohe', OneHotEncoder(), categorical),\n",
        "])\n",
        "\n",
        "OHE_pipeline = Pipeline([\n",
        "    ('transformer', column_transformer_OHE),\n",
        "    ('regression', LogisticRegression())\n",
        "])"
      ],
      "execution_count": 62,
      "outputs": []
    },
    {
      "cell_type": "markdown",
      "metadata": {
        "id": "I9VvzIe3p3DO"
      },
      "source": [
        "В качестве основной модели будем использовать логистическую регрессию, а целевой метрики — `AUC-PR`. Обучите модель и посчитайте качество на тестовой выборке. Давайте запомним полученное значение."
      ]
    },
    {
      "cell_type": "code",
      "metadata": {
        "id": "Pwob5tIkp3DO",
        "colab": {
          "base_uri": "https://localhost:8080/"
        },
        "outputId": "737a3370-b23d-4c49-9141-aae19ae7d663"
      },
      "source": [
        "model_lr = OHE_pipeline.fit(X_train, y_train)\n",
        "print(f'PR-AUC = {average_precision_score(y_test, model_lr.predict_proba(X_test)[:,1]):.5f}')"
      ],
      "execution_count": 63,
      "outputs": [
        {
          "output_type": "stream",
          "text": [
            "PR-AUC = 0.40900\n"
          ],
          "name": "stdout"
        }
      ]
    },
    {
      "cell_type": "code",
      "metadata": {
        "colab": {
          "base_uri": "https://localhost:8080/"
        },
        "id": "d9mmxAMxKnQU",
        "outputId": "d0fef05c-9804-4df4-a0b9-39eaed89b1bf"
      },
      "source": [
        "print(\"Size before OneHot:\", X_train.shape)\n",
        "print(\"Size after OneHot:\", column_transformer_OHE.transform(X_train).shape)"
      ],
      "execution_count": 64,
      "outputs": [
        {
          "output_type": "stream",
          "text": [
            "Size before OneHot: (32950, 19)\n",
            "Size after OneHot: (32950, 53)\n"
          ],
          "name": "stdout"
        }
      ]
    },
    {
      "cell_type": "markdown",
      "metadata": {
        "id": "GM8hluk-p3DO"
      },
      "source": [
        "### Встроенные методы"
      ]
    },
    {
      "cell_type": "markdown",
      "metadata": {
        "id": "VELbQbKTp3DO"
      },
      "source": [
        "Допустим, мы хотим оставить только 40 лучших признаков. Попробуем сделать это несколькими способами.\n",
        "\n",
        "Начнём с отборам признаков с помощью линейной модели. Как известно, веса линейной модели означают вклад каждого признака в предсказание модели, а значит, модуль этого вклада можно интерпретировать как важность признаков. Такой метод отбора называются встроенным или embedded methods, так как он заложен в особенности модели.\n",
        "\n",
        "__Задание 7 (0.5 балла).__ Оставьте 40 признаков с наибольшим модулем соответствующего параметра линейной модели. Обучите модели заново и оцените её качество. Замерьте скорость такого отбора признаков.\n",
        "\n",
        "Изменилось ли качество? Как?\n",
        "\n"
      ]
    },
    {
      "cell_type": "code",
      "metadata": {
        "colab": {
          "base_uri": "https://localhost:8080/"
        },
        "id": "Amuisv-0OcS3",
        "outputId": "191fcc92-b10b-4c6d-a26d-74e69d1773d1"
      },
      "source": [
        "%%time\n",
        "X_train_OHE = column_transformer_OHE.transform(X_train)\n",
        "X_test_OHE = column_transformer_OHE.transform(X_test)\n",
        "model_l = LinearRegression()\n",
        "model_l.fit(X_train_OHE, y_train)\n",
        "selected_features = np.absolute(model_l.coef_).argsort()[-40:][::-1] "
      ],
      "execution_count": 65,
      "outputs": [
        {
          "output_type": "stream",
          "text": [
            "CPU times: user 246 ms, sys: 76.9 ms, total: 323 ms\n",
            "Wall time: 230 ms\n"
          ],
          "name": "stdout"
        }
      ]
    },
    {
      "cell_type": "code",
      "metadata": {
        "colab": {
          "base_uri": "https://localhost:8080/"
        },
        "id": "MFh6OhBhOkB7",
        "outputId": "d6526b85-7e53-4590-da86-6cf89932f9cc"
      },
      "source": [
        "X_train_emb = X_train_OHE[:, selected_features]\n",
        "X_test_emb = X_test_OHE[:, selected_features ]\n",
        "\n",
        "model_lr = LogisticRegression()\n",
        "model_lr.fit(X_train_emb, y_train)\n",
        "print(f'PR-AUC = {average_precision_score(y_test, model_lr.predict_proba(X_test_emb)[:,1]):.5f}')"
      ],
      "execution_count": 66,
      "outputs": [
        {
          "output_type": "stream",
          "text": [
            "PR-AUC = 0.40791\n"
          ],
          "name": "stdout"
        }
      ]
    },
    {
      "cell_type": "markdown",
      "metadata": {
        "id": "5a5-PitVEwBs"
      },
      "source": [
        "А качесто то изменилось не сильно! Хотя мы выкинули почти четверь признаков, они были неоч и мы почти не потеряли в качестве. "
      ]
    },
    {
      "cell_type": "markdown",
      "metadata": {
        "id": "VsqBl2rfp3DO"
      },
      "source": [
        "А теперь давайте подумаем, что мы не учли. Мы предположили, что признаки вносят вклад равномерно, но не учли их масштаба. Если мы умножим один из признаков в 100 раз, то без учёта регуляризации его вес уменьшится в эти же 100 раз. А мы на основе этого отбираем признаки! Давайте сначала отмасштабируем признаки одним из способов, а только потом будем удалять признаки. \n",
        "\n",
        "Кстати, в таком случае надо пересчитать качество на всех признаках (сделайте это ниже). Если вы сделали нормирование признаков в самом начале, то попробуйте отобрать признаки на неотмасштабированных данных.\n",
        "\n",
        "Что получилось?"
      ]
    },
    {
      "cell_type": "markdown",
      "metadata": {
        "id": "7GxrYMDiHkPq"
      },
      "source": [
        "На всех признаках:"
      ]
    },
    {
      "cell_type": "code",
      "metadata": {
        "id": "tUsfH2Vrp3DO",
        "colab": {
          "base_uri": "https://localhost:8080/"
        },
        "outputId": "81fdf6fa-6865-476c-cf4c-953cd85f1dd7"
      },
      "source": [
        "column_transformer_OHE = ColumnTransformer([\n",
        "    ('ohe', OneHotEncoder(), categorical),\n",
        "    ('scaling', StandardScaler(), numeric_features)\n",
        "])\n",
        "\n",
        "OHE_pipeline = Pipeline([\n",
        "    ('transformer', column_transformer_OHE),\n",
        "    ('regression', LogisticRegression())\n",
        "])\n",
        "\n",
        "model_lr = OHE_pipeline.fit(X_train, y_train)\n",
        "print(f'PR-AUC = {average_precision_score(y_test, model_lr.predict_proba(X_test)[:,1]):.5f}')"
      ],
      "execution_count": 67,
      "outputs": [
        {
          "output_type": "stream",
          "text": [
            "PR-AUC = 0.44775\n"
          ],
          "name": "stdout"
        }
      ]
    },
    {
      "cell_type": "markdown",
      "metadata": {
        "id": "79Iu2k4VHrXH"
      },
      "source": [
        "С отбором:"
      ]
    },
    {
      "cell_type": "code",
      "metadata": {
        "colab": {
          "base_uri": "https://localhost:8080/"
        },
        "id": "OpwBizPYYhuL",
        "outputId": "2f12dabf-9ec5-407a-a819-802797c4a200"
      },
      "source": [
        "X_train_OHE = column_transformer_OHE.transform(X_train)\n",
        "X_test_OHE = column_transformer_OHE.transform(X_test)\n",
        "model_l = LinearRegression()\n",
        "model_l.fit(X_train_OHE, y_train)\n",
        "X_train_emb = X_train_OHE[:, np.absolute(model_l.coef_).argsort()[-40:][::-1] ]\n",
        "X_test_emb = X_test_OHE[:, np.absolute(model_l.coef_).argsort()[-40:][::-1] ]\n",
        "\n",
        "model_lr = LogisticRegression()\n",
        "model_lr.fit(X_train_emb, y_train)\n",
        "print(f'PR-AUC = {average_precision_score(y_test, model_lr.predict_proba(X_test_emb)[:,1]):.5f}')"
      ],
      "execution_count": 68,
      "outputs": [
        {
          "output_type": "stream",
          "text": [
            "PR-AUC = 0.24868\n"
          ],
          "name": "stdout"
        }
      ]
    },
    {
      "cell_type": "markdown",
      "metadata": {
        "id": "clK0TEp3HVuF"
      },
      "source": [
        "Видно, что уже все не так радужно, как без масштаирования. Странно, аргумент выше про необходимость масштабирования валидный. "
      ]
    },
    {
      "cell_type": "markdown",
      "metadata": {
        "id": "370Oy3I-p3DO"
      },
      "source": [
        "\n",
        "### Методы фильтрации\n",
        "\n",
        "\n",
        "Давайте отбирать признаки умнее, а именно через подсчёт некоторой функции для каждого признака. На основании значений этой функции будем оставлять наиболее важные признаки. Методы этого семейства называют фильтрующими или  filter methods. \n",
        "\n",
        "В качестве такой функции будем считать t-статистику:\n",
        "\n",
        "$$t(j) = \\frac{|\\mu_+ - \\mu_-|}{\\sqrt{\\frac{n_+ \\sigma^2_+ + n_- \\sigma^2_-}{n_+ + n_-}}},$$\n",
        "\n",
        "где $\\mu$, $\\sigma$, $n$ соответственно среднее, стандартное отклонение и количество объектов каждого из классов.\n",
        "\n",
        "__Задание 8 (0.5 балла).__ Оставьте 40 признаков с наибольшим значением $t$ и замерьте качество. Не забудьте замерить скорость отбора признаков в этом случае.\n",
        "\n"
      ]
    },
    {
      "cell_type": "code",
      "metadata": {
        "id": "3yR8BZQWp3DP",
        "colab": {
          "base_uri": "https://localhost:8080/"
        },
        "outputId": "4754034f-2392-425d-db3f-3a894a67e3a8"
      },
      "source": [
        "%%time\n",
        "mu_p=np.mean(X_train_OHE[y_train,:], axis=0)\n",
        "mu_n=np.mean(X_train_OHE[~y_train,:], axis=0)\n",
        "\n",
        "var_p = np.std(X_train_OHE[y_train,:], axis=0)**2\n",
        "var_n = np.std(X_train_OHE[~y_train,:], axis=0)**2\n",
        "\n",
        "n_p = y_train[y_train].shape[0]\n",
        "n_n = y_train[~y_train].shape[0]\n",
        "\n",
        "t_stat = np.abs(mu_p - mu_n) / ((var_p * n_p + var_n * n_n)/(n_p + n_n))**0.5\n",
        "\n",
        "selected_features = t_stat.argsort()[-40:][::-1] "
      ],
      "execution_count": 70,
      "outputs": [
        {
          "output_type": "stream",
          "text": [
            "CPU times: user 34.6 ms, sys: 2.71 ms, total: 37.4 ms\n",
            "Wall time: 39.2 ms\n"
          ],
          "name": "stdout"
        }
      ]
    },
    {
      "cell_type": "code",
      "metadata": {
        "colab": {
          "base_uri": "https://localhost:8080/"
        },
        "id": "2tKR7FpQbGzo",
        "outputId": "1e0bd366-0b70-42d3-f7db-01444aca8b84"
      },
      "source": [
        "X_train_emb = X_train_OHE[:, selected_features]\n",
        "X_test_emb = X_test_OHE[:, selected_features ]\n",
        "\n",
        "model_lr = LogisticRegression()\n",
        "model_lr.fit(X_train_emb, y_train)\n",
        "print(f'PR-AUC = {average_precision_score(y_test, model_lr.predict_proba(X_test_emb)[:,1]):.5f}')"
      ],
      "execution_count": 71,
      "outputs": [
        {
          "output_type": "stream",
          "text": [
            "PR-AUC = 0.45171\n"
          ],
          "name": "stdout"
        }
      ]
    },
    {
      "cell_type": "markdown",
      "metadata": {
        "id": "yA4UxbLmp3DP"
      },
      "source": [
        "### Методы-обёртки\n",
        "\n",
        "__Задание 9 (1 балл).__ \n",
        "\n",
        "Третий из рассматриваемых нами методов работает следующим образом: мы исключаем по очереди один из признаков и смотрим, как это влияет на качество. Удаляем признаки таким жадным способом, пока не окажется выполненым некоторое условие (количество признаков или ухудшение качества).\n",
        "\n",
        "Заметим, что нельзя оценивать качество по тестовой выборке, иначе мы можем переобучиться, как, например, при настройке гиперпараметров. Разделите обучающую выборку на 2 части, на одной из них обучайте модель без одного из признаков,  на второй части оценивайте качество. Исходную тестовую выборку стоит использовать только для финальной оценки качества.\n",
        "\n",
        "Снова оставьте только 40 признаков и оцените качество на тестовой выборке. Сколько времени занял такой отбор признаков?"
      ]
    },
    {
      "cell_type": "markdown",
      "metadata": {
        "id": "pxREPBACJXV7"
      },
      "source": [
        "Воспользуемся сторонней библиотекой, хоть она и излишне долгая:"
      ]
    },
    {
      "cell_type": "code",
      "metadata": {
        "id": "kGdFrvwAp3DP",
        "colab": {
          "base_uri": "https://localhost:8080/"
        },
        "outputId": "47ed3b26-c7de-41e2-ad66-692019b7c6bd"
      },
      "source": [
        "%%time\n",
        "# !pip install mlxtend\n",
        "from mlxtend.feature_selection import SequentialFeatureSelector as sfs\n",
        "\n",
        "model_lr = LogisticRegression()\n",
        "\n",
        "sfs1 = sfs(model_lr,\n",
        "           k_features=40,\n",
        "           forward=False,\n",
        "           floating=False,\n",
        "           scoring='roc_auc',\n",
        "           cv=5)\n",
        "\n",
        "sfs1 = sfs1.fit(X_train_OHE, y_train)"
      ],
      "execution_count": 73,
      "outputs": [
        {
          "output_type": "stream",
          "text": [
            "CPU times: user 1h 26min 51s, sys: 33min 39s, total: 2h 31s\n",
            "Wall time: 1h 1min 15s\n"
          ],
          "name": "stdout"
        }
      ]
    },
    {
      "cell_type": "code",
      "metadata": {
        "id": "K8Z1grQRRp_9",
        "colab": {
          "base_uri": "https://localhost:8080/"
        },
        "outputId": "749e704d-6abc-4739-c0d4-b752a2aaaf1f"
      },
      "source": [
        "X_train_emb = X_train_OHE[:, sfs1.k_feature_idx_]\n",
        "X_test_emb = X_test_OHE[:, sfs1.k_feature_idx_ ]\n",
        "\n",
        "model_lr = LogisticRegression()\n",
        "model_lr.fit(X_train_emb, y_train)\n",
        "print(f'PR-AUC = {average_precision_score(y_test, model_lr.predict_proba(X_test_emb)[:,1]):.5f}')"
      ],
      "execution_count": 74,
      "outputs": [
        {
          "output_type": "stream",
          "text": [
            "PR-AUC = 0.44522\n"
          ],
          "name": "stdout"
        }
      ]
    },
    {
      "cell_type": "markdown",
      "metadata": {
        "id": "5vZ32KM_p3DP"
      },
      "source": [
        "Давайте подведём итоги по отбору признаков. Назовите преимущества и недостатки каждого из методов. Какой метод привёл к наилучшему качеству?\n",
        "\n",
        "**Ответ:** \n",
        "\n",
        "* Стоит отметить, что встроенные методы и обертки очень похожи. В общем случае у нас есть n признаков и мы хотим отобрать из них подмножество k, такое что качество модели на k признаках - наилучшее. Мы можем перебрать все $C_n^k$ вариантов и найти оптимум, но это долговато) Поэтому в качестве прокси и используется такие упрощения. \n",
        "* Встроенные методы хороши своей простотой и интерпретируемостью. Однако они не учитывают динамические свойства построения регрессии: оставить 40 лучших исходя из одной регресии - не самое точное приближении лучшего варианта. \n",
        "* Сильно лучше в этом плане методы-обертки - пусть алгоритм и жадный, но мы перебираем довольно много правдоподобных вариантов. Как мне кажется, это хороший баланс (в средних условиях: когда крупицы качества не супер важны и стоимость ресурсов на обучение не зашкаливает) между временем и оптимальностью. \n",
        "* Методы фильтрации (кроме описанного выше еще WOE очень часто используется) тоже хороши в простоте и интерпретируемости, но они не учитывают взаимосвязь между переменными. Мы можем выбрать две лучших по WOE фичи, а окажется, что они отражают одно и то же и выгоднее вместо top2 взять что-то похуже. "
      ]
    },
    {
      "cell_type": "markdown",
      "metadata": {
        "id": "Me9C5mtMqG4i"
      },
      "source": [
        "# Часть 3. Оценка экономического эффекта модели\n",
        "\n",
        "В данной части мы займемся тем, что от вас скорее всего потребуется на реальной работе (помимо перекладки `json`, разумеется). А именно: мы соберем несколько специализированных метрик качества, попытаемся настроить модель на максимизацию _прибыли_ и оценим, сколько вообще получится заработать на этом. Разумеется, здесь будет сделано множество упрощающих жизнь допущений, но обо всем по порядку. \n",
        "\n",
        "__Задание 10 (1.5 балл).__ Допустим, работники вашего колл-центра получают за один звонок клиенту 1 доллар. При согласии клиента на предлагаемые условия он принесет в банк 10 долларов.\n",
        "\n",
        "Если вы всё прослушали на экономике, то напомним, что выручка — это сколько денег нам принесли клиенты, а прибыль — выручка за вычетом расходов на зарплату и прочее.\n",
        "\n",
        "Загрузите данные о телемаркетинге из предыдущего блока заданий. В этой части не нужно делить выборку - мы будем использовать кросс-валидацию. Используйте 5 фолдов, сделайте `shuffle=True, random_state=500`. По кросс-валидации у вас получится 5 вариантов обучающей и тестовой выборки. Обучите логистическую регрессию на каждой обучающей выборке (воспользуйтесь one-hot для категориальных признаков, гиперпараметры оставьте со значениями по умолчанию) и сделайте предсказания (`predict(...)`) для соответствующих тестовых выборок. Допустим, всем положительным прогнозам ваши сотрудники решили позвонить. Посчитайте на всех тестовых выборках выручку и усредните. Сколько денег вы в среднем заработаете? Также вычислите стандартное отклонение.\n",
        "\n",
        "Сколько из заработанных денег придётся отдать операторам вашего колл-центра?"
      ]
    },
    {
      "cell_type": "code",
      "metadata": {
        "id": "lfGNJKYzqG4i"
      },
      "source": [
        "df = pd.read_csv('bank-additional/bank-additional-full.csv', sep=';')\n",
        "X = df.drop(columns=['y','duration'])\n",
        "y = (df['y']=='yes').astype('int')\n",
        "\n",
        "\n",
        "column_transformer_OHE = ColumnTransformer([\n",
        "    ('ohe', OneHotEncoder(), categorical),\n",
        "    ('scaling', StandardScaler(), numeric_features)\n",
        "])\n",
        "\n",
        "OHE_pipeline = Pipeline([\n",
        "    ('transformer', column_transformer_OHE),\n",
        "    ('regression', LogisticRegression())\n",
        "])\n",
        "\n",
        "revenues, costs = [], []\n",
        "kf = KFold(n_splits=5, random_state=500, shuffle=True)\n",
        "for train_index, test_index in kf.split(X):\n",
        "  X_train, X_test = X.loc[train_index,:], X.loc[test_index,:]\n",
        "  y_train, y_test = y[train_index], y[test_index]\n",
        "  \n",
        "  model_lr = OHE_pipeline.fit(X_train, y_train)\n",
        "  y_test_pred = model_lr.predict(X_test)\n",
        "  revenues.append(10*np.sum(y_test*y_test_pred))\n",
        "  costs.append(np.sum(y_test_pred))"
      ],
      "execution_count": 75,
      "outputs": []
    },
    {
      "cell_type": "code",
      "metadata": {
        "colab": {
          "base_uri": "https://localhost:8080/"
        },
        "id": "nMZWvr-hlSpd",
        "outputId": "08aeae6f-ffb2-4652-d159-f6131f04cf71"
      },
      "source": [
        "print('Our revenues', revenues)\n",
        "print('Our costs', costs)\n",
        "print('An average revenue: {:.0f}, standard deviation: {:.2f}'.format(np.mean(revenues), np.std(revenues)))\n",
        "print('An average profit: ', np.mean(np.asarray(revenues) - np.asarray(costs)))"
      ],
      "execution_count": 76,
      "outputs": [
        {
          "output_type": "stream",
          "text": [
            "Our revenues [2240, 2110, 2080, 2240, 1970]\n",
            "Our costs [309, 330, 328, 330, 321]\n",
            "An average revenue: 2128, standard deviation: 102.65\n",
            "An average profit:  1804.4\n"
          ],
          "name": "stdout"
        }
      ]
    },
    {
      "cell_type": "markdown",
      "metadata": {
        "id": "7S06jplGqG4i"
      },
      "source": [
        "Внесем некоторую долю случайности. Пусть теперь согласный на условия клиент будет приносить не 10 долларов, а случайную величину, равномерно распределенную в интервале $[0;20)$. Проделайте все те же самые действия. Для имитации реальной ситуации **НЕ** фиксируйте `random_seed` при подсчете выручки с клиента. Что получилось?"
      ]
    },
    {
      "cell_type": "code",
      "metadata": {
        "id": "cFIvQCzkqG4i",
        "colab": {
          "base_uri": "https://localhost:8080/"
        },
        "outputId": "c5a47543-cfed-462c-a30b-8ba72ab07e05"
      },
      "source": [
        "revenues_rand, costs_rand = [], []\n",
        "kf = KFold(n_splits=5, random_state=500, shuffle=True)\n",
        "for train_index, test_index in kf.split(X):\n",
        "  X_train, X_test = X.loc[train_index,:], X.loc[test_index,:]\n",
        "  y_train, y_test = y[train_index], y[test_index]\n",
        "  \n",
        "  model_lr = OHE_pipeline.fit(X_train, y_train)\n",
        "  y_test_pred = model_lr.predict(X_test)\n",
        "  revenues_rand.append(np.sum(np.random.randint(20, size=y_test.shape)*y_test*y_test_pred))\n",
        "  costs_rand.append(np.sum(y_test_pred))\n",
        "\n",
        "print('Our revenues', revenues_rand)\n",
        "print('Our costs', costs_rand)\n",
        "print('An average revenue: {:.0f}, standard deviation: {:.2f}'.format(np.mean(revenues_rand), np.std(revenues_rand)))\n",
        "print('An average profit: ', np.mean(np.asarray(revenues_rand) - np.asarray(costs_rand)))"
      ],
      "execution_count": 77,
      "outputs": [
        {
          "output_type": "stream",
          "text": [
            "Our revenues [1979, 2041, 2151, 2009, 1883]\n",
            "Our costs [309, 330, 328, 330, 321]\n",
            "An average revenue: 2013, standard deviation: 87.06\n",
            "An average profit:  1689.0\n"
          ],
          "name": "stdout"
        }
      ]
    },
    {
      "cell_type": "markdown",
      "metadata": {
        "id": "7-24rfWfwLiu"
      },
      "source": [
        "Видно, что выручка и косты остались в среднем теми же - средняя прибыль отличается меньше, чем на процент! При этом стандартное отклонение выросло. Все эффекты логичны и ожидаемы: мы лишь добавили вариации в доходы, но из-за закона больших чисел.."
      ]
    },
    {
      "cell_type": "markdown",
      "metadata": {
        "id": "v-NvZfXgqG4i"
      },
      "source": [
        "Настройте по кросс-валидации коэффициент регуляризации модели для максимизации прибыли (считайте как случайную величину выше). Удалось ли получить какой-то выигрыш? При каком коэффициенте регуляризациии прибыль максимальна? Постройте график зависимости ожидаемой прибыли от коэффициента, также укажите стандартные отклонения (вам поможет `plt.errorbar`)."
      ]
    },
    {
      "cell_type": "code",
      "metadata": {
        "id": "uRCIF7-jqG4i"
      },
      "source": [
        "C = np.linspace(0.01, 10, 10)\n",
        "\n",
        "profits,errors = [],[]\n",
        "for c in C:\n",
        "  revenues_rand, costs_rand = [], []\n",
        "  kf = KFold(n_splits=5, random_state=500, shuffle=True)\n",
        "  for train_index, test_index in kf.split(X):\n",
        "    X_train, X_test = X.loc[train_index,:], X.loc[test_index,:]\n",
        "    y_train, y_test = y[train_index], y[test_index]\n",
        "    \n",
        "    OHE_pipeline = Pipeline([\n",
        "        ('transformer', column_transformer_OHE),\n",
        "        ('regression', LogisticRegression(C=c))\n",
        "    ])\n",
        "\n",
        "    model_lr = OHE_pipeline.fit(X_train, y_train)\n",
        "    y_test_pred = model_lr.predict(X_test)\n",
        "    revenues_rand.append(np.sum(np.random.randint(20, size=y_test.shape)*y_test*y_test_pred))\n",
        "    costs_rand.append(np.sum(y_test_pred))\n",
        "  profits.append(np.mean(np.asarray(revenues_rand) - np.asarray(costs_rand)))\n",
        "  errors.append(np.std(np.asarray(revenues_rand) - np.asarray(costs_rand)))"
      ],
      "execution_count": 78,
      "outputs": []
    },
    {
      "cell_type": "code",
      "metadata": {
        "colab": {
          "base_uri": "https://localhost:8080/",
          "height": 404
        },
        "id": "W79EQomMss3d",
        "outputId": "2414eaf3-50f4-4283-f220-f211c7447e45"
      },
      "source": [
        "fig, ax = plt.subplots(figsize = (10,6))\n",
        "\n",
        "ax.errorbar(C,profits,errors)\n",
        "ax.set(title = 'Зависимость прибыли от оптимального параметра регуляризации',\n",
        "       xlabel = 'Параметр регуляризации',\n",
        "       ylabel = 'Средняя прибыль')\n",
        "plt.show()\n",
        "# fig.savefig(\"profit_3.pdf\")"
      ],
      "execution_count": 79,
      "outputs": [
        {
          "output_type": "display_data",
          "data": {
            "image/png": "[encoded data removed]",
            "text/plain": [
              "<Figure size 720x432 with 1 Axes>"
            ]
          },
          "metadata": {
            "tags": [],
            "needs_background": "light"
          }
        }
      ]
    },
    {
      "cell_type": "markdown",
      "metadata": {
        "id": "dYKKYAEPqG4i"
      },
      "source": [
        "Попробуйте запустить перебор несколько раз. Находится ли каждый раз один и тот же \"лучший\" коэффициент? Присутствует ли какая-то закономерность? Какие вы можете сделать из этого выводы?"
      ]
    },
    {
      "cell_type": "markdown",
      "metadata": {
        "id": "nl7E_vfYqG4i"
      },
      "source": [
        "Я запустил алгоритм несколько раз и закономерности в лучшей прибыли не наблюдается (в разных прогонах разные оптимальные параметры). Из этого можно сделать вывод, что такой способ подбора гиперпараметра не имеет смысла - мы переобучимся на нерелевантной информации (отсутствует external validity). К тому же мы видим, что стандартные ошибки довольно велики - на их фоне различия между разными значениями параметра отличаются незначительно."
      ]
    },
    {
      "cell_type": "markdown",
      "metadata": {
        "id": "Uno48uVOqG4j"
      },
      "source": [
        "__Задание 11 (1.5 балл).__ Выше мы уже описали примерную экономическую модель вашей задачи. Как вы считаете, что для вашего бизнеса важнее — хороший precision или recall модели? Почему?\n",
        "\n",
        "__Ответ:__ precision = сколько из найденных действительно положительные, recall = сколько из положительных нашли. Заметим, что стоимость реакции для нас относительно мала - 1 (мы не учитываем негативные последствия беспокойства клиента, только стоимость звонка) по сравнению с прибылью от удачного звонка (const=10, или матож=10). Поэтому при прочих равных нам выгодно среагировать для лишнего клиента, чем нет. Поэтому высокий recall для нас важнее высокого precision. Вот если бы это был бизнес-класс и стоимость промаха была бы сильно выше...\n",
        "\n",
        "Ниже мы увидим подтверждение этой гипотезы.\n",
        "\n"
      ]
    },
    {
      "cell_type": "markdown",
      "metadata": {
        "id": "xF3NWAjFqG4j"
      },
      "source": [
        "Вспомним, что на самом деле логистическая регрессия предсказывает нам вероятности (`predict_proba(...)`) положительного класса для объекта. Возможно, путем настройки порога бинаризации этих вероятностей мы сможем получить какой-то выигрыш? Проверьте ваши рассуждения выше с помощью настройки порога бинаризации на кросс-валидации для максимизации прибыли. Воспользуйтесь сеткой от 0 до 1 с шагом 0.01. Напомним, что снижение порога дает нам более высокий recall и более низкий precision, и наоборот."
      ]
    },
    {
      "cell_type": "code",
      "metadata": {
        "id": "b7mblmdjqG4j"
      },
      "source": [
        "OHE_pipeline = Pipeline([\n",
        "        ('transformer', column_transformer_OHE),\n",
        "        ('regression', LogisticRegression())\n",
        "    ])\n",
        "\n",
        "C = np.linspace(0, 1, 101)\n",
        "\n",
        "profits,errors = [],[]\n",
        "for c in C:\n",
        "  revenues_rand, costs_rand = [], []\n",
        "  kf = KFold(n_splits=5, random_state=500, shuffle=True)\n",
        "  for train_index, test_index in kf.split(X):\n",
        "    X_train, X_test = X.loc[train_index,:], X.loc[test_index,:]\n",
        "    y_train, y_test = y[train_index], y[test_index]\n",
        "    \n",
        "    model_lr = OHE_pipeline.fit(X_train, y_train)\n",
        "    y_test_pred = (model_lr.predict_proba(X_test)[:,1]>c)*1\n",
        "    revenues_rand.append(np.sum(np.random.randint(20, size=y_test.shape)*y_test*y_test_pred))\n",
        "    costs_rand.append(np.sum(y_test_pred))\n",
        "  profits.append(np.mean(np.asarray(revenues_rand) - np.asarray(costs_rand)))\n",
        "  errors.append(np.std(np.asarray(revenues_rand) - np.asarray(costs_rand)))"
      ],
      "execution_count": null,
      "outputs": []
    },
    {
      "cell_type": "code",
      "metadata": {
        "id": "TQyLmwq-1gF_"
      },
      "source": [
        "fig, ax = plt.subplots(figsize = (10,6))\n",
        "\n",
        "ax.errorbar(C,profits,errors)\n",
        "ax.set(title = 'Зависимость прибыли от оптимального параметра разбиения',\n",
        "       xlabel = 'Параметр разбиения',\n",
        "       ylabel = 'Средняя прибыль')\n",
        "plt.show()\n",
        "fig.savefig(\"barrier_2.pdf\")"
      ],
      "execution_count": null,
      "outputs": []
    },
    {
      "cell_type": "markdown",
      "metadata": {
        "id": "qBWTxLGzqG4j"
      },
      "source": [
        "Постройте график зависимости прибыли от порога бинаризации, также отметьте на нем стандартные отклонения. Выделите наилучший порог. \n",
        "\n",
        "\n",
        "__Вопрос:__ Замечаете ли вы какую-то закономерность? Для правильного ответа на этот вопрос попробуйте запустить несколько раз и задумайтесь, почему порог получается в какой-то конкретной области?"
      ]
    },
    {
      "cell_type": "markdown",
      "metadata": {
        "id": "tMHvRwIHqG4j"
      },
      "source": [
        "Несколько построений дают нам очень похожие паттерны. Каждый раз оптимальный порог оказывается в районе [0.1,0.2], пусть 0.15 в среднем. Это говорит о том, что нам выгодно звонить, как только вероятность успеха хотябы 15\\%! Т.е. действительно, мы готовы обзванивать с запасом, закладывая долю неудач, ради того, чтобы найти успешные кейсы и максимизировать прибыль. Иными словами, recall важнее precision. "
      ]
    },
    {
      "cell_type": "markdown",
      "metadata": {
        "id": "QOCNWL6aqG4j"
      },
      "source": [
        "Каковы значения precision и recall на выбранном пороге? Оцените по кросс-валидации. Также вычислите стандартное отклонение."
      ]
    },
    {
      "cell_type": "markdown",
      "metadata": {
        "id": "uoDuc6v3N50g"
      },
      "source": [
        "Возьмем в качестве порога 0.15. "
      ]
    },
    {
      "cell_type": "code",
      "metadata": {
        "id": "zunRtdGzqG4j"
      },
      "source": [
        "from sklearn.metrics import precision_score,recall_score\n",
        "С = 0.15\n",
        "prec, rec = [], []\n",
        "kf = KFold(n_splits=5, random_state=500, shuffle=True)\n",
        "for train_index, test_index in kf.split(X):\n",
        "    X_train, X_test = X.loc[train_index,:], X.loc[test_index,:]\n",
        "    y_train, y_test = y[train_index], y[test_index]\n",
        "    \n",
        "    model_lr = OHE_pipeline.fit(X_train, y_train)\n",
        "    y_test_pred = (model_lr.predict_proba(X_test)[:,1]>c)*1\n",
        "\n",
        "    prec.append(precision_score(y_test, y_test_pred))\n",
        "    rec.append(recall_score(y_test, y_test_pred)) \n",
        "    \n",
        "print('Our precisons', prec)\n",
        "print('Standard deviation: {:.2f}'.format(np.std(prec)))\n",
        "print('Our recalls', rec)\n",
        "print('Standard deviation: {:.2f}'.format(np.std(rec)))"
      ],
      "execution_count": null,
      "outputs": []
    },
    {
      "cell_type": "markdown",
      "metadata": {
        "id": "D24YhHAQqG4j"
      },
      "source": [
        "__Бонус (0.01 балла):__ что вы кушали в день сдачи данного ДЗ на завтрак?\n",
        "\n",
        "__Ответ:__ чай :("
      ]
    }
  ]
}